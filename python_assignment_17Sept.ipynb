{
 "cells": [
  {
   "cell_type": "code",
   "execution_count": null,
   "id": "4c611f6e-664f-4a17-8ce1-49c15853a89d",
   "metadata": {},
   "outputs": [],
   "source": [
    "# For Loop"
   ]
  },
  {
   "cell_type": "code",
   "execution_count": null,
   "id": "4923bf06-ff08-49aa-92e3-142c17fb7435",
   "metadata": {},
   "outputs": [],
   "source": [
    "#Question1"
   ]
  },
  {
   "cell_type": "code",
   "execution_count": 1,
   "id": "546c17b4-e151-410c-971a-d477237ffcb1",
   "metadata": {},
   "outputs": [
    {
     "name": "stdout",
     "output_type": "stream",
     "text": [
      "1\n",
      "2\n",
      "3\n",
      "4\n",
      "5\n",
      "6\n",
      "7\n",
      "8\n",
      "9\n",
      "10\n"
     ]
    }
   ],
   "source": [
    "for i in range(1,11):\n",
    "    print(i)"
   ]
  },
  {
   "cell_type": "code",
   "execution_count": null,
   "id": "b3d622df-c5b9-4855-8ecf-90463508d8b8",
   "metadata": {},
   "outputs": [],
   "source": [
    "#Question2"
   ]
  },
  {
   "cell_type": "markdown",
   "id": "0b6afe31-29ea-4dcd-bca0-0bd1bb66de05",
   "metadata": {},
   "source": [
    "For loop is typically used when you know the number of iterations before it starts . On the other hand, while loop does not know the number of iterations in advance. It is commonly used when the number of iterations depends on dynamic conditions that change during the loop."
   ]
  },
  {
   "cell_type": "code",
   "execution_count": null,
   "id": "95f4fd32-8f31-44c6-992c-bb3e2b77dec2",
   "metadata": {},
   "outputs": [],
   "source": [
    "#Question3"
   ]
  },
  {
   "cell_type": "code",
   "execution_count": 1,
   "id": "0716b570-09c3-45d1-9a70-6ee218767e9f",
   "metadata": {},
   "outputs": [
    {
     "name": "stdout",
     "output_type": "stream",
     "text": [
      "5050\n"
     ]
    }
   ],
   "source": [
    "sum = 0\n",
    "for i in range(1, 101):\n",
    "    sum = sum + i\n",
    "print(sum)"
   ]
  },
  {
   "cell_type": "code",
   "execution_count": null,
   "id": "341b5d21-4321-4bfb-840b-6b53e8f2ce03",
   "metadata": {},
   "outputs": [],
   "source": [
    "#Question4"
   ]
  },
  {
   "cell_type": "code",
   "execution_count": 2,
   "id": "bad7be88-6244-4d77-84bb-53fea049c9f6",
   "metadata": {},
   "outputs": [
    {
     "name": "stdout",
     "output_type": "stream",
     "text": [
      "1\n",
      "2\n",
      "3\n",
      "4\n",
      "5\n"
     ]
    }
   ],
   "source": [
    "# To iterate through a list using a for loop in Python, we can directly loop over the elements of the list.\n",
    "\n",
    "my_list = [1, 2, 3, 4, 5]\n",
    "for i in my_list:\n",
    "    print(i)"
   ]
  },
  {
   "cell_type": "code",
   "execution_count": null,
   "id": "759dc1cc-73b6-40bd-b1a3-757768818f2a",
   "metadata": {},
   "outputs": [],
   "source": [
    "#Question5"
   ]
  },
  {
   "cell_type": "code",
   "execution_count": 3,
   "id": "aaa54c66-226f-4bc4-bfb9-bf144678c52e",
   "metadata": {},
   "outputs": [
    {
     "name": "stdout",
     "output_type": "stream",
     "text": [
      "120\n"
     ]
    }
   ],
   "source": [
    "my_list = [1, 2, 3, 4, 5]\n",
    "multiply = 1\n",
    "\n",
    "for i in my_list:\n",
    "    multiply = multiply * i\n",
    "print(multiply)"
   ]
  },
  {
   "cell_type": "code",
   "execution_count": 4,
   "id": "11794cee-78c5-4fc1-99c0-60f95c252f26",
   "metadata": {},
   "outputs": [],
   "source": [
    "#Question6"
   ]
  },
  {
   "cell_type": "code",
   "execution_count": 5,
   "id": "d1a60329-acd7-42cc-a8ab-5b083318aaad",
   "metadata": {},
   "outputs": [
    {
     "name": "stdout",
     "output_type": "stream",
     "text": [
      "2\n",
      "4\n",
      "6\n",
      "8\n",
      "10\n",
      "12\n",
      "14\n",
      "16\n",
      "18\n",
      "20\n"
     ]
    }
   ],
   "source": [
    "for i in range(1,21):\n",
    "    if i % 2 == 0:\n",
    "        print(i)"
   ]
  },
  {
   "cell_type": "code",
   "execution_count": null,
   "id": "28979f4a-67ce-48db-a2c0-dca87943f3ae",
   "metadata": {},
   "outputs": [],
   "source": [
    "#Question7"
   ]
  },
  {
   "cell_type": "code",
   "execution_count": 7,
   "id": "1d19a5fb-5f03-4306-83ec-eb833b31eead",
   "metadata": {},
   "outputs": [
    {
     "name": "stdin",
     "output_type": "stream",
     "text": [
      "Enter a number 4\n"
     ]
    },
    {
     "name": "stdout",
     "output_type": "stream",
     "text": [
      "24\n"
     ]
    }
   ],
   "source": [
    "n = int(input(\"Enter a number\"))\n",
    "fact = 1\n",
    "\n",
    "for i in range(1,n+1):\n",
    "    fact = fact * i\n",
    "print(fact)"
   ]
  },
  {
   "cell_type": "code",
   "execution_count": null,
   "id": "c5189ff9-2f17-46c3-8e30-89610afa799c",
   "metadata": {},
   "outputs": [],
   "source": [
    "#Question8"
   ]
  },
  {
   "cell_type": "code",
   "execution_count": 8,
   "id": "ad5bad78-da0a-44d3-8a58-69e1dd537eef",
   "metadata": {},
   "outputs": [
    {
     "name": "stdout",
     "output_type": "stream",
     "text": [
      "H\n",
      "e\n",
      "l\n",
      "l\n",
      "o\n"
     ]
    }
   ],
   "source": [
    "my_string = \"Hello\"\n",
    "\n",
    "for char in my_string:\n",
    "    print(char)"
   ]
  },
  {
   "cell_type": "code",
   "execution_count": null,
   "id": "c0562cff-753f-4a1d-8154-26b6f77d6123",
   "metadata": {},
   "outputs": [],
   "source": [
    "#Question 9"
   ]
  },
  {
   "cell_type": "code",
   "execution_count": 9,
   "id": "d76e7641-0bc8-499d-9323-88fe1dc32335",
   "metadata": {},
   "outputs": [
    {
     "name": "stdout",
     "output_type": "stream",
     "text": [
      "55\n"
     ]
    }
   ],
   "source": [
    "my_list = [1, 50, 2, 55 , 7]\n",
    "\n",
    "largest = my_list[0]\n",
    "\n",
    "for i in range(len(my_list)):\n",
    "    if (my_list[i] > largest):\n",
    "        largest = my_list[i]\n",
    "print(largest)"
   ]
  },
  {
   "cell_type": "code",
   "execution_count": null,
   "id": "29fa745e-7e55-42b6-a795-e51a539b0aeb",
   "metadata": {},
   "outputs": [],
   "source": [
    "#Question10"
   ]
  },
  {
   "cell_type": "code",
   "execution_count": 1,
   "id": "94886782-30b3-4bd9-83cc-d8d3a99c6655",
   "metadata": {},
   "outputs": [
    {
     "name": "stdin",
     "output_type": "stream",
     "text": [
      "Enter a limit upto which you want to print a fibonacci series 6\n"
     ]
    },
    {
     "name": "stdout",
     "output_type": "stream",
     "text": [
      "0 1 1 2 3 5 "
     ]
    }
   ],
   "source": [
    "def fibonacci_series(limit):\n",
    "    a, b = 0, 1\n",
    "    \n",
    "    for _ in range(limit):\n",
    "        print(a , end = \" \")\n",
    "        a, b = b, a+b\n",
    "\n",
    "limit = int(input(\"Enter a limit upto which you want to print a fibonacci series\"))\n",
    "fibonacci_series(limit)"
   ]
  },
  {
   "cell_type": "code",
   "execution_count": null,
   "id": "7f30bfeb-9a00-4708-94c4-28c18177b000",
   "metadata": {},
   "outputs": [],
   "source": [
    "#Question11"
   ]
  },
  {
   "cell_type": "code",
   "execution_count": 3,
   "id": "ad61a0b2-e630-4b49-b2e5-488fe37fc0b2",
   "metadata": {},
   "outputs": [
    {
     "name": "stdin",
     "output_type": "stream",
     "text": [
      "Enter a string Riya Gupta\n"
     ]
    },
    {
     "name": "stdout",
     "output_type": "stream",
     "text": [
      "4\n"
     ]
    }
   ],
   "source": [
    "str_input = input(\"Enter a string\")\n",
    "vowels = \"AEIOUaeiou\"\n",
    "count = 0\n",
    "\n",
    "for i in str_input:\n",
    "    if i in vowels:\n",
    "        count += 1\n",
    "print(count)"
   ]
  },
  {
   "cell_type": "code",
   "execution_count": null,
   "id": "68721769-e9ac-42f6-8a8f-386e281be640",
   "metadata": {},
   "outputs": [],
   "source": [
    "#Question 12"
   ]
  },
  {
   "cell_type": "code",
   "execution_count": 4,
   "id": "88383a0b-8f9a-4dbf-a63e-1eaccae4cce3",
   "metadata": {},
   "outputs": [
    {
     "name": "stdin",
     "output_type": "stream",
     "text": [
      "Enter a number 4\n"
     ]
    },
    {
     "name": "stdout",
     "output_type": "stream",
     "text": [
      "4 * 1 = 4\n",
      "4 * 2 = 8\n",
      "4 * 3 = 12\n",
      "4 * 4 = 16\n",
      "4 * 5 = 20\n",
      "4 * 6 = 24\n",
      "4 * 7 = 28\n",
      "4 * 8 = 32\n",
      "4 * 9 = 36\n",
      "4 * 10 = 40\n"
     ]
    }
   ],
   "source": [
    "n = int(input(\"Enter a number\"))\n",
    "for i in range(1,11):\n",
    "    m = n * i\n",
    "    print(f\"{n} * {i} = {n*i}\")"
   ]
  },
  {
   "cell_type": "code",
   "execution_count": null,
   "id": "4ac45872-80d5-4ceb-ad9d-13c46164633d",
   "metadata": {},
   "outputs": [],
   "source": [
    "#Question 13"
   ]
  },
  {
   "cell_type": "code",
   "execution_count": 8,
   "id": "a08e9955-7670-4e0b-9cc5-14082a38836a",
   "metadata": {},
   "outputs": [
    {
     "name": "stdin",
     "output_type": "stream",
     "text": [
      "Enter a list of elements separated by spaces:  1 2 3 4 5\n"
     ]
    },
    {
     "name": "stdout",
     "output_type": "stream",
     "text": [
      "Reversed list: ['5', '4', '3', '2', '1']\n"
     ]
    }
   ],
   "source": [
    "user_list = input(\"Enter a list of elements separated by spaces: \").split()\n",
    "\n",
    "reversed_list = []\n",
    "\n",
    "for i in range(len(user_list) - 1, -1, -1):\n",
    "    reversed_list.append(user_list[i])\n",
    "\n",
    "print(\"Reversed list:\", reversed_list)"
   ]
  },
  {
   "cell_type": "code",
   "execution_count": null,
   "id": "c94f28fa-bd27-4f36-b50a-b4747a0d2cc5",
   "metadata": {},
   "outputs": [],
   "source": [
    "#Question 14"
   ]
  },
  {
   "cell_type": "code",
   "execution_count": 12,
   "id": "010dc23f-2130-46c7-b0ae-6dbd1ada1bf4",
   "metadata": {},
   "outputs": [
    {
     "name": "stdin",
     "output_type": "stream",
     "text": [
      "Enter a list of elements separated by spaces:  1 2 3 4 5\n",
      "Enter a list of elements separated by spaces:  1 2 3 7 8 \n"
     ]
    },
    {
     "name": "stdout",
     "output_type": "stream",
     "text": [
      "['1', '2', '3']\n"
     ]
    }
   ],
   "source": [
    "user_list_1 = input(\"Enter a list of elements separated by spaces: \").split()\n",
    "user_list_2 = input(\"Enter a list of elements separated by spaces: \").split()\n",
    "\n",
    "common = []\n",
    "\n",
    "for i in range(len(user_list_1)):\n",
    "    for j in range(len(user_list_2)):\n",
    "        if user_list_1[i] == user_list_2[j]:\n",
    "            common.append( user_list_1[i])\n",
    "            \n",
    "print(common)"
   ]
  },
  {
   "cell_type": "code",
   "execution_count": null,
   "id": "d7c4f34b-b3b7-41f3-b7c8-e967baffe1a2",
   "metadata": {},
   "outputs": [],
   "source": [
    "#Question 15"
   ]
  },
  {
   "cell_type": "code",
   "execution_count": 15,
   "id": "6c60d332-c4d6-473b-88e8-4e9347ad881c",
   "metadata": {},
   "outputs": [
    {
     "name": "stdout",
     "output_type": "stream",
     "text": [
      "Key : one , Value : 1\n",
      "Key : two , Value : 2\n",
      "Key : three , Value : 3\n"
     ]
    }
   ],
   "source": [
    "dictionary = {'one': 1, 'two': 2, 'three': 3}\n",
    "\n",
    "for key,value in dictionary.items():\n",
    "    print(f\"Key : {key} , Value : {value}\")"
   ]
  },
  {
   "cell_type": "code",
   "execution_count": null,
   "id": "f8e099fc-5ed3-4957-a1ea-d58a4b0f4fe8",
   "metadata": {},
   "outputs": [],
   "source": [
    "#Question 16"
   ]
  },
  {
   "cell_type": "code",
   "execution_count": 16,
   "id": "5bdbedcc-2b59-420f-b464-f81b99ac782b",
   "metadata": {},
   "outputs": [
    {
     "name": "stdin",
     "output_type": "stream",
     "text": [
      "Enter first number 6\n",
      "Enter second number 18\n"
     ]
    },
    {
     "name": "stdout",
     "output_type": "stream",
     "text": [
      "Greatest Common Divisor of 6 and 18 is 6\n"
     ]
    }
   ],
   "source": [
    "a = int(input(\"Enter first number\"))\n",
    "b = int(input(\"Enter second number\"))\n",
    "\n",
    "smaller = min(a,b)\n",
    "gcd = 1\n",
    "\n",
    "for i in range(1, smaller+1):\n",
    "    if (a % i == 0) and (b % i == 0):\n",
    "        gcd = i\n",
    "\n",
    "print(f\"Greatest Common Divisor of {a} and {b} is {gcd}\")  "
   ]
  },
  {
   "cell_type": "code",
   "execution_count": null,
   "id": "65b90d87-35c7-4fe1-a87c-9534c3f0549f",
   "metadata": {},
   "outputs": [],
   "source": [
    "#Question 17"
   ]
  },
  {
   "cell_type": "code",
   "execution_count": 31,
   "id": "fcff8ab3-87c8-491a-a5ad-2b575d8fc680",
   "metadata": {},
   "outputs": [
    {
     "name": "stdin",
     "output_type": "stream",
     "text": [
      "Enter a string mam\n"
     ]
    },
    {
     "name": "stdout",
     "output_type": "stream",
     "text": [
      "String is palindrome\n"
     ]
    }
   ],
   "source": [
    "input_string = input(\"Enter a string\").lower()\n",
    "\n",
    "rev_string = \"\"\n",
    "\n",
    "for i in input_string:\n",
    "    rev_string = i + rev_string\n",
    "# print(f\"Reverse string = {rev_string}\")\n",
    "\n",
    "if (input_string == rev_string):\n",
    "    print(\"String is palindrome\")\n",
    "else:\n",
    "    print(\"String is not palindrome\")\n"
   ]
  },
  {
   "cell_type": "code",
   "execution_count": null,
   "id": "553df38a-ec6d-4804-9b06-1d61f0e512bf",
   "metadata": {},
   "outputs": [],
   "source": [
    "#Question 18"
   ]
  },
  {
   "cell_type": "code",
   "execution_count": 32,
   "id": "64c65c13-d030-4689-b577-38f3cd2f7ddd",
   "metadata": {},
   "outputs": [
    {
     "name": "stdin",
     "output_type": "stream",
     "text": [
      "Enter elements of the list separated by spaces:  1 2 3 4 5 1 2 3\n"
     ]
    },
    {
     "name": "stdout",
     "output_type": "stream",
     "text": [
      "List after removing duplicates: ['1', '2', '3', '4', '5']\n"
     ]
    }
   ],
   "source": [
    "user_input = input(\"Enter elements of the list separated by spaces: \")\n",
    "\n",
    "elements = user_input.split()\n",
    "\n",
    "unique_elements = []\n",
    "\n",
    "for element in elements:\n",
    "    if element not in unique_elements:\n",
    "        unique_elements.append(element)  \n",
    "\n",
    "print(\"List after removing duplicates:\", unique_elements)"
   ]
  },
  {
   "cell_type": "code",
   "execution_count": null,
   "id": "1dea4853-9d45-42d2-a504-1fcecd9ebf7f",
   "metadata": {},
   "outputs": [],
   "source": [
    "#Question 19"
   ]
  },
  {
   "cell_type": "code",
   "execution_count": 33,
   "id": "e1d2e029-1eaf-4d6a-aa25-f2534473ec30",
   "metadata": {},
   "outputs": [
    {
     "name": "stdin",
     "output_type": "stream",
     "text": [
      "Enter a sentence:  Everything is absolutely good\n"
     ]
    },
    {
     "name": "stdout",
     "output_type": "stream",
     "text": [
      "The number of words in the sentence is: 4\n"
     ]
    }
   ],
   "source": [
    "sentence = input(\"Enter a sentence: \")\n",
    "\n",
    "word_count = 0\n",
    "\n",
    "words = sentence.split()\n",
    "\n",
    "for word in words:\n",
    "    word_count += 1\n",
    "\n",
    "print(f\"The number of words in the sentence is: {word_count}\")"
   ]
  },
  {
   "cell_type": "code",
   "execution_count": null,
   "id": "5b8d30be-f921-4bb7-affb-70c346e8a8f4",
   "metadata": {},
   "outputs": [],
   "source": [
    "#Question 20"
   ]
  },
  {
   "cell_type": "code",
   "execution_count": 34,
   "id": "83f96435-ffed-4db1-b1ed-2b65f29b43c0",
   "metadata": {},
   "outputs": [
    {
     "name": "stdout",
     "output_type": "stream",
     "text": [
      "625\n"
     ]
    }
   ],
   "source": [
    "sum = 0\n",
    "for i in range(1,50):\n",
    "    if i % 2 != 0:\n",
    "        sum = sum + i\n",
    "print(sum)"
   ]
  },
  {
   "cell_type": "code",
   "execution_count": null,
   "id": "31997d2b-9d01-4f69-8ab4-d38c1622a54d",
   "metadata": {},
   "outputs": [],
   "source": [
    "#Question 21"
   ]
  },
  {
   "cell_type": "code",
   "execution_count": 50,
   "id": "1d0604b2-85f9-4e08-962e-b7338c44ee50",
   "metadata": {},
   "outputs": [
    {
     "name": "stdin",
     "output_type": "stream",
     "text": [
      "Enter a year:  2000\n"
     ]
    },
    {
     "name": "stdout",
     "output_type": "stream",
     "text": [
      "2000 is a leap year.\n"
     ]
    }
   ],
   "source": [
    "year = int(input(\"Enter a year: \"))\n",
    "\n",
    "is_leap_year = False\n",
    "\n",
    "for condition in [year % 4 == 0 and year % 100 != 0 or year % 400 == 0]:\n",
    "    if condition:\n",
    "        is_leap_year = True\n",
    "    else:\n",
    "        is_leap_year = False\n",
    "        break  \n",
    "\n",
    "if is_leap_year:\n",
    "    print(f\"{year} is a leap year.\")\n",
    "else:\n",
    "    print(f\"{year} is not a leap year.\")"
   ]
  },
  {
   "cell_type": "code",
   "execution_count": null,
   "id": "a9cd8d49-6dbe-4aa7-8d3d-3f8ef8a06502",
   "metadata": {},
   "outputs": [],
   "source": [
    "#Question 22"
   ]
  },
  {
   "cell_type": "code",
   "execution_count": 3,
   "id": "6cfa3a58-6020-4986-927f-4f1fc5c2a47a",
   "metadata": {},
   "outputs": [
    {
     "name": "stdin",
     "output_type": "stream",
     "text": [
      "Enter a number:  16\n"
     ]
    },
    {
     "name": "stdout",
     "output_type": "stream",
     "text": [
      "The square root of 16.0 is approximately: 4.0\n"
     ]
    }
   ],
   "source": [
    "def sqrt_with_loop(number, iterations=10):\n",
    "    if number < 0:\n",
    "        return \"Square root of a negative number is undefined in real numbers.\"\n",
    "    \n",
    "    # Initial guess\n",
    "    guess = number / 2.0\n",
    "\n",
    "    # Iterate to improve the guess\n",
    "    for _ in range(iterations):\n",
    "        guess = (guess + number / guess) / 2\n",
    "\n",
    "    return guess\n",
    "\n",
    "num = float(input(\"Enter a number: \"))\n",
    "result = sqrt_with_loop(num)\n",
    "\n",
    "print(f\"The square root of {num} is approximately: {result}\")"
   ]
  },
  {
   "cell_type": "code",
   "execution_count": null,
   "id": "6ac9133b-847e-4250-ade3-9b7bee62b954",
   "metadata": {},
   "outputs": [],
   "source": [
    "#Question 23"
   ]
  },
  {
   "cell_type": "code",
   "execution_count": 4,
   "id": "29ee3f92-b709-42b3-bb81-b6f682dc9635",
   "metadata": {},
   "outputs": [
    {
     "name": "stdin",
     "output_type": "stream",
     "text": [
      "Enter the first number:  12\n",
      "Enter the second number:  8\n"
     ]
    },
    {
     "name": "stdout",
     "output_type": "stream",
     "text": [
      "The LCM of 12 and 8 is: 24\n"
     ]
    }
   ],
   "source": [
    "def find_lcm(num1, num2):\n",
    "    if num1 > num2:\n",
    "        greater = num1\n",
    "    else:\n",
    "        greater = num2\n",
    "\n",
    "    for i in range(greater, (num1 * num2) + 1):\n",
    "        if i % num1 == 0 and i % num2 == 0:\n",
    "            lcm = i\n",
    "            break\n",
    "\n",
    "    return lcm\n",
    "\n",
    "number1 = int(input(\"Enter the first number: \"))\n",
    "number2 = int(input(\"Enter the second number: \"))\n",
    "\n",
    "result = find_lcm(number1, number2)\n",
    "\n",
    "print(f\"The LCM of {number1} and {number2} is: {result}\")"
   ]
  },
  {
   "cell_type": "code",
   "execution_count": 5,
   "id": "7bbf0bbb-044e-4912-893c-e3df8a5c10a2",
   "metadata": {},
   "outputs": [],
   "source": [
    "# Questions of If-Else"
   ]
  },
  {
   "cell_type": "code",
   "execution_count": null,
   "id": "1880f63c-8062-4ac0-baa4-2528ea69fbcc",
   "metadata": {},
   "outputs": [],
   "source": [
    "#Question 1"
   ]
  },
  {
   "cell_type": "code",
   "execution_count": 8,
   "id": "770b29fd-70db-4ce8-83b6-b60420e9f67b",
   "metadata": {},
   "outputs": [
    {
     "name": "stdin",
     "output_type": "stream",
     "text": [
      "Enter a number -3\n"
     ]
    },
    {
     "name": "stdout",
     "output_type": "stream",
     "text": [
      "Number is negative\n"
     ]
    }
   ],
   "source": [
    "n = int(input(\"Enter a number\"))\n",
    "if n >= 0:\n",
    "    if n == 0:\n",
    "        print(\"You entered Zero\")\n",
    "    else:\n",
    "        print(\"Number is positive\")\n",
    "else:\n",
    "    print(\"Number is negative\")"
   ]
  },
  {
   "cell_type": "code",
   "execution_count": null,
   "id": "18c6c16e-ca0c-43c0-b389-4d102539386c",
   "metadata": {},
   "outputs": [],
   "source": [
    "#Question2"
   ]
  },
  {
   "cell_type": "code",
   "execution_count": 10,
   "id": "337b2a02-4eb8-4bd9-acd7-143e809648ef",
   "metadata": {},
   "outputs": [
    {
     "name": "stdin",
     "output_type": "stream",
     "text": [
      "Enter a number 5\n"
     ]
    },
    {
     "name": "stdout",
     "output_type": "stream",
     "text": [
      "Number is odd\n"
     ]
    }
   ],
   "source": [
    "n = int(input(\"Enter a number\"))\n",
    "if n % 2 == 0:\n",
    "    print(\"Number is even\")\n",
    "else:\n",
    "    print(\"Number is odd\")"
   ]
  },
  {
   "cell_type": "code",
   "execution_count": null,
   "id": "a564cd31-724b-4d01-8adb-88cb60c0e9cd",
   "metadata": {},
   "outputs": [],
   "source": [
    "#Question3"
   ]
  },
  {
   "cell_type": "markdown",
   "id": "27481f83-15da-41eb-b11f-c8948826dbc4",
   "metadata": {},
   "source": [
    "Nested if-else statements allow you to place an if-else block inside another if or else block. This is useful when you need to check multiple conditions in a hierarchical manner."
   ]
  },
  {
   "cell_type": "code",
   "execution_count": 25,
   "id": "92644716-e320-4e65-90fc-8b843676cb93",
   "metadata": {},
   "outputs": [
    {
     "name": "stdin",
     "output_type": "stream",
     "text": [
      "Enter a number (1-7) to represent a day of the week:  5\n"
     ]
    },
    {
     "name": "stdout",
     "output_type": "stream",
     "text": [
      "Friday\n"
     ]
    }
   ],
   "source": [
    "# program to determine the day of the week based on a user-provided number using nested if-else.\n",
    "\n",
    "day_number = int(input(\"Enter a number (1-7) to represent a day of the week: \"))\n",
    "\n",
    "if day_number == 1:\n",
    "    print(\"Monday\")\n",
    "else:\n",
    "    if day_number == 2:\n",
    "        print(\"Tuesday\")\n",
    "    else:\n",
    "        if day_number == 3:\n",
    "            print(\"Wednesday\")\n",
    "        else:\n",
    "            if day_number == 4:\n",
    "                print(\"Thursday\")\n",
    "            else:\n",
    "                if day_number == 5:\n",
    "                    print(\"Friday\")\n",
    "                else:\n",
    "                    if day_number == 6:\n",
    "                        print(\"Saturday\")\n",
    "                    else:\n",
    "                        if day_number == 7:\n",
    "                            print(\"Sunday\")\n",
    "                        else:\n",
    "                            print(\"Invalid number\")"
   ]
  },
  {
   "cell_type": "code",
   "execution_count": null,
   "id": "acee97f0-b429-41cc-a21b-d9c21f645be6",
   "metadata": {},
   "outputs": [],
   "source": [
    "#Question 4"
   ]
  },
  {
   "cell_type": "code",
   "execution_count": 24,
   "id": "84e4aa37-666c-457f-88c6-98856abb6c6b",
   "metadata": {},
   "outputs": [
    {
     "name": "stdin",
     "output_type": "stream",
     "text": [
      "Enter the first number:  3\n",
      "Enter the second number:  8\n",
      "Enter the third number:  2\n"
     ]
    },
    {
     "name": "stdout",
     "output_type": "stream",
     "text": [
      "The largest number is: 8.0\n"
     ]
    }
   ],
   "source": [
    "num1 = float(input(\"Enter the first number: \"))\n",
    "num2 = float(input(\"Enter the second number: \"))\n",
    "num3 = float(input(\"Enter the third number: \"))\n",
    "\n",
    "if num1 >= num2:\n",
    "    if num1 >= num3:\n",
    "        largest = num1\n",
    "    else:\n",
    "        largest = num3\n",
    "else:\n",
    "    if num2 >= num3:\n",
    "        largest = num2\n",
    "    else:\n",
    "        largest = num3\n",
    "\n",
    "print(f\"The largest number is: {largest}\")"
   ]
  },
  {
   "cell_type": "code",
   "execution_count": null,
   "id": "f366a270-7165-4392-9d94-7940477907c3",
   "metadata": {},
   "outputs": [],
   "source": [
    "#Question 5"
   ]
  },
  {
   "cell_type": "code",
   "execution_count": 5,
   "id": "90f0269f-160b-4190-8bba-baf764ed00c4",
   "metadata": {},
   "outputs": [
    {
     "name": "stdin",
     "output_type": "stream",
     "text": [
      "Enter a number -6\n"
     ]
    },
    {
     "name": "stdout",
     "output_type": "stream",
     "text": [
      "6\n"
     ]
    }
   ],
   "source": [
    "n = int(input(\"Enter a number\"))\n",
    "\n",
    "if n >= 0:\n",
    "    if n > 0:\n",
    "        print(n)\n",
    "    else:\n",
    "        print(\"0\")\n",
    "else:\n",
    "    print(-n)"
   ]
  },
  {
   "cell_type": "code",
   "execution_count": null,
   "id": "cc018dad-00d6-4fba-ae40-5a02dae2d0a0",
   "metadata": {},
   "outputs": [],
   "source": [
    "#Question 6"
   ]
  },
  {
   "cell_type": "code",
   "execution_count": 8,
   "id": "ac80cebd-9fd4-49e9-bcd9-c265dafacf6c",
   "metadata": {},
   "outputs": [
    {
     "name": "stdin",
     "output_type": "stream",
     "text": [
      "Enter a single character a\n"
     ]
    },
    {
     "name": "stdout",
     "output_type": "stream",
     "text": [
      "Entered character is a vowel\n"
     ]
    }
   ],
   "source": [
    "char = input(\"Enter a single character\")\n",
    "\n",
    "vowel = \"AEIOUaeiou\"\n",
    "\n",
    "if len(char) == 1:\n",
    "    if char in vowel:\n",
    "        print(\"Entered character is a vowel\")\n",
    "    else:\n",
    "        print(\"Entered character is a consonant\")\n",
    "else:\n",
    "    print(\"Please enter only a single character\")"
   ]
  },
  {
   "cell_type": "code",
   "execution_count": null,
   "id": "df16b961-450e-499d-b7c9-82232c78b85b",
   "metadata": {},
   "outputs": [],
   "source": [
    "#Question 7"
   ]
  },
  {
   "cell_type": "code",
   "execution_count": 12,
   "id": "c65da507-f90a-4792-8d87-849726c4f110",
   "metadata": {},
   "outputs": [
    {
     "name": "stdin",
     "output_type": "stream",
     "text": [
      "Enter a person's age 18\n"
     ]
    },
    {
     "name": "stdout",
     "output_type": "stream",
     "text": [
      "You are eligible to vote\n"
     ]
    }
   ],
   "source": [
    "age = int(input(\"Enter a person's age\"))\n",
    "\n",
    "if age < 18:\n",
    "    print(\"You are not eligible to vote\")\n",
    "else:\n",
    "    print(\"You are eligible to vote\")"
   ]
  },
  {
   "cell_type": "code",
   "execution_count": null,
   "id": "30ef26af-a78d-496d-a923-9dab87b21735",
   "metadata": {},
   "outputs": [],
   "source": [
    "#Question 8"
   ]
  },
  {
   "cell_type": "code",
   "execution_count": 23,
   "id": "b220648d-6228-47ca-b97b-801b854ee80b",
   "metadata": {},
   "outputs": [
    {
     "name": "stdin",
     "output_type": "stream",
     "text": [
      "Enter the purchase amount: Rs 600\n"
     ]
    },
    {
     "name": "stdout",
     "output_type": "stream",
     "text": [
      "Discount = 120.0\n",
      "Final price after discount: Rs 480.00\n"
     ]
    }
   ],
   "source": [
    "purchase_amount = float(input(\"Enter the purchase amount: Rs\"))\n",
    "\n",
    "if purchase_amount >= 500:\n",
    "        discount = 0.20 * purchase_amount  \n",
    "        print(f\"Discount = {discount}\")\n",
    "else:\n",
    "    if purchase_amount >= 200:\n",
    "        discount = 0.10 * purchase_amount \n",
    "        print(f\"Discount = {discount}\")\n",
    "    else:\n",
    "        discount = 0.05 * purchase_amount \n",
    "        print(f\"Discount = {discount}\")\n",
    "            \n",
    "final_amount = purchase_amount - discount\n",
    "\n",
    "print(f\"Final price after discount: Rs {final_amount:.2f}\")"
   ]
  },
  {
   "cell_type": "code",
   "execution_count": null,
   "id": "1307983f-091d-4d00-8ac5-7d2a3acd46f2",
   "metadata": {},
   "outputs": [],
   "source": [
    "#Question 9"
   ]
  },
  {
   "cell_type": "code",
   "execution_count": 18,
   "id": "9ceb6d10-28b9-4041-af3f-c398d8c2bb44",
   "metadata": {},
   "outputs": [
    {
     "name": "stdin",
     "output_type": "stream",
     "text": [
      "Enter the number:  5\n",
      "Enter the lower bound of the range:  1\n",
      "Enter the upper bound of the range:  100\n"
     ]
    },
    {
     "name": "stdout",
     "output_type": "stream",
     "text": [
      "The number 5.0 is within the range 1.0 and 100.0.\n"
     ]
    }
   ],
   "source": [
    "number = float(input(\"Enter the number: \"))\n",
    "lower_bound = float(input(\"Enter the lower bound of the range: \"))\n",
    "upper_bound = float(input(\"Enter the upper bound of the range: \"))\n",
    "if lower_bound <= number <= upper_bound:\n",
    "    print(f\"The number {number} is within the range {lower_bound} and {upper_bound}.\")\n",
    "else:\n",
    "    print(f\"The number {number} is NOT within the range {lower_bound} and {upper_bound}.\")"
   ]
  },
  {
   "cell_type": "code",
   "execution_count": null,
   "id": "310f3ea7-8036-4cea-9c8a-fdff9e0fc192",
   "metadata": {},
   "outputs": [],
   "source": [
    "#Question 10"
   ]
  },
  {
   "cell_type": "code",
   "execution_count": 22,
   "id": "141e26fd-8551-4e41-8c13-0e0e047c6dd4",
   "metadata": {},
   "outputs": [
    {
     "name": "stdin",
     "output_type": "stream",
     "text": [
      "Enter your score 95\n"
     ]
    },
    {
     "name": "stdout",
     "output_type": "stream",
     "text": [
      "Your score is 95.0, so your grade is A\n"
     ]
    }
   ],
   "source": [
    "score = float(input(\"Enter your score\"))\n",
    "\n",
    "if score >= 0:\n",
    "    if 70 < score <= 100:\n",
    "        print(f\"Your score is {score}, so your grade is A\")\n",
    "    else:\n",
    "        if 50 < score <= 70:\n",
    "            print(f\"Your score is {score}, so your grade is B\")\n",
    "        else:\n",
    "            if 30 < score <= 50:\n",
    "                print(f\"Your score is {score}, so your grade is C\") \n",
    "            else:\n",
    "                print(f\"Your score is {score}, so are fail\")\n",
    "else:\n",
    "    print(\"Enter valid score\")"
   ]
  },
  {
   "cell_type": "code",
   "execution_count": null,
   "id": "9184bf2f-b925-4af3-be47-e5f3e0892b22",
   "metadata": {},
   "outputs": [],
   "source": [
    "#Question 11"
   ]
  },
  {
   "cell_type": "code",
   "execution_count": 25,
   "id": "09d879a2-0bf7-4c6e-be99-0968eac756c1",
   "metadata": {},
   "outputs": [
    {
     "name": "stdin",
     "output_type": "stream",
     "text": [
      "Enter something or not , its your choice riya\n"
     ]
    },
    {
     "name": "stdout",
     "output_type": "stream",
     "text": [
      "String is not empty\n"
     ]
    }
   ],
   "source": [
    "input_str = input(\"Enter something or not , its your choice\")\n",
    "\n",
    "if len(input_str) == 0:\n",
    "    print(\"String is empty\")\n",
    "else:\n",
    "    print(\"String is not empty\")"
   ]
  },
  {
   "cell_type": "code",
   "execution_count": null,
   "id": "97070621-b536-4ec4-916e-bb73097d2ba0",
   "metadata": {},
   "outputs": [],
   "source": [
    "#Question 12"
   ]
  },
  {
   "cell_type": "code",
   "execution_count": 8,
   "id": "909c99f7-5dd8-4ab7-bd73-49e8e7895bb2",
   "metadata": {},
   "outputs": [
    {
     "name": "stdin",
     "output_type": "stream",
     "text": [
      "Enter first side of a triangle 5\n",
      "Enter second side of a triangle 4\n",
      "Enter third side of a triangle 3\n"
     ]
    },
    {
     "name": "stdout",
     "output_type": "stream",
     "text": [
      "Triangle is Scalene\n"
     ]
    }
   ],
   "source": [
    "s1 = float(input(\"Enter first side of a triangle\"))\n",
    "s2 = float(input(\"Enter second side of a triangle\"))\n",
    "s3 = float(input(\"Enter third side of a triangle\"))\n",
    "\n",
    "if s1 + s2 > s3 and s1 + s3 > s2 and s2 + s3 > s1:\n",
    "    \n",
    "    if s1 == s2 and s1 == s3:\n",
    "        print(\"Triangle is Equilateral\")\n",
    "    else:\n",
    "        if s1 == s2 or s2 == s3 or s1 == s3:\n",
    "            print(\"Triangle is Isosceles\")\n",
    "        else:\n",
    "            print(\"Triangle is Scalene\")\n",
    "else:\n",
    "    print(\"These sides are not valid to make a triangle\")"
   ]
  },
  {
   "cell_type": "code",
   "execution_count": null,
   "id": "fa202248-9d6c-4b8a-ad09-86869821cdb3",
   "metadata": {},
   "outputs": [],
   "source": [
    "#Question 13"
   ]
  },
  {
   "cell_type": "code",
   "execution_count": 17,
   "id": "56eea26d-a8a0-44e3-be85-5bdf34ed4f75",
   "metadata": {},
   "outputs": [
    {
     "name": "stdin",
     "output_type": "stream",
     "text": [
      "Enter a number (1-7) to represent a day of the week:  7\n"
     ]
    },
    {
     "name": "stdout",
     "output_type": "stream",
     "text": [
      "Sunday\n"
     ]
    }
   ],
   "source": [
    "day_number = int(input(\"Enter a number (1-7) to represent a day of the week: \"))\n",
    "\n",
    "if day_number == 1:\n",
    "    print(\"Monday\")\n",
    "else:\n",
    "    if day_number == 2:\n",
    "        print(\"Tuesday\")\n",
    "    else:\n",
    "        if day_number == 3:\n",
    "            print(\"Wednesday\")\n",
    "        else:\n",
    "            if day_number == 4:\n",
    "                print(\"Thursday\")\n",
    "            else:\n",
    "                if day_number == 5:\n",
    "                    print(\"Friday\")\n",
    "                else:\n",
    "                    if day_number == 6:\n",
    "                        print(\"Saturday\")\n",
    "                    else:\n",
    "                        if day_number == 7:\n",
    "                            print(\"Sunday\")\n",
    "                        else:\n",
    "                            print(\"Invalid number\")"
   ]
  },
  {
   "cell_type": "code",
   "execution_count": null,
   "id": "fa7e546b-c130-4748-9e96-61f245525855",
   "metadata": {},
   "outputs": [],
   "source": [
    "#Question 14"
   ]
  },
  {
   "cell_type": "code",
   "execution_count": 31,
   "id": "431ada1b-6540-4023-8e90-a3d8d3c90aba",
   "metadata": {},
   "outputs": [
    {
     "name": "stdin",
     "output_type": "stream",
     "text": [
      "Enter a year:  2002\n"
     ]
    },
    {
     "name": "stdout",
     "output_type": "stream",
     "text": [
      "2002 is not a leap year.\n"
     ]
    }
   ],
   "source": [
    "def is_leap_year(year):\n",
    "    \n",
    "    if year % 4 == 0:\n",
    "        if year % 100 == 0:\n",
    "            if year % 400 == 0:\n",
    "                return True \n",
    "            else:\n",
    "                return False \n",
    "        else:\n",
    "            return True \n",
    "    else:\n",
    "        return False\n",
    "\n",
    "year = int(input(\"Enter a year: \"))\n",
    "\n",
    "if is_leap_year(year):\n",
    "    print(f\"{year} is a leap year.\")\n",
    "else:\n",
    "    print(f\"{year} is not a leap year.\")"
   ]
  },
  {
   "cell_type": "code",
   "execution_count": 32,
   "id": "1e76dbb3-baf8-426f-b983-3557ed85fe68",
   "metadata": {},
   "outputs": [],
   "source": [
    "#Question 15"
   ]
  },
  {
   "cell_type": "markdown",
   "id": "b13601a9-4128-46e6-9e9b-24fec894000b",
   "metadata": {},
   "source": [
    "The assert statement in Python is used to add debugging checks within our code. It helps you ensure that a condition holds true during runtime. If the condition evaluates to True, the program continues executing normally. If the condition evaluates to False, an AssertionError is raised with an optional error message."
   ]
  },
  {
   "cell_type": "code",
   "execution_count": 33,
   "id": "47ec1a35-8d0f-47a5-94fc-d856dfa697bc",
   "metadata": {},
   "outputs": [
    {
     "name": "stdin",
     "output_type": "stream",
     "text": [
      "Enter a year:  2015\n"
     ]
    },
    {
     "name": "stdout",
     "output_type": "stream",
     "text": [
      "2015 is not a leap year.\n"
     ]
    }
   ],
   "source": [
    "def is_leap_year(year):\n",
    "    # Condition check\n",
    "    assert year > 0, \"Year must be a positive number.\"\n",
    "    \n",
    "    if year % 4 == 0:\n",
    "        if year % 100 == 0:\n",
    "            if year % 400 == 0:\n",
    "                return True \n",
    "            else:\n",
    "                return False \n",
    "        else:\n",
    "            return True\n",
    "    else:\n",
    "        return False\n",
    "\n",
    "year = int(input(\"Enter a year: \"))\n",
    "\n",
    "assert isinstance(year, int), \"Input must be an integer.\"\n",
    "\n",
    "if is_leap_year(year):\n",
    "    print(f\"{year} is a leap year.\")\n",
    "else:\n",
    "    print(f\"{year} is not a leap year.\")"
   ]
  },
  {
   "cell_type": "code",
   "execution_count": null,
   "id": "23b73219-c769-47e5-b74f-0805e9e0d21e",
   "metadata": {},
   "outputs": [],
   "source": [
    "#Question 16"
   ]
  },
  {
   "cell_type": "code",
   "execution_count": 34,
   "id": "a5ecaf54-edc8-46ef-9be1-1b221150c72d",
   "metadata": {},
   "outputs": [
    {
     "name": "stdin",
     "output_type": "stream",
     "text": [
      "Enter your age:  70\n"
     ]
    },
    {
     "name": "stdout",
     "output_type": "stream",
     "text": [
      "You are eligible for the senior citizen discount.\n"
     ]
    }
   ],
   "source": [
    "age = int(input(\"Enter your age: \"))\n",
    "\n",
    "if age >= 60:\n",
    "    print(\"You are eligible for the senior citizen discount.\")\n",
    "else:\n",
    "    print(\"You are not eligible for the senior citizen discount.\")"
   ]
  },
  {
   "cell_type": "code",
   "execution_count": null,
   "id": "0a1f8a9b-89da-4802-ac33-ac9bae092d3e",
   "metadata": {},
   "outputs": [],
   "source": [
    "#Question 17"
   ]
  },
  {
   "cell_type": "code",
   "execution_count": 38,
   "id": "4edf3083-7bab-4e49-be1c-3f721c7bd2d0",
   "metadata": {},
   "outputs": [
    {
     "name": "stdin",
     "output_type": "stream",
     "text": [
      "Enter a character:  E\n"
     ]
    },
    {
     "name": "stdout",
     "output_type": "stream",
     "text": [
      "E is an uppercase letter.\n"
     ]
    }
   ],
   "source": [
    "char = input(\"Enter a character: \")\n",
    "\n",
    "if char.isupper():\n",
    "    print(f\"{char} is an uppercase letter.\")\n",
    "else:\n",
    "    if char.islower():\n",
    "        print(f\"{char} is a lowercase letter.\")\n",
    "    else:\n",
    "        print(f\"{char} is neither an uppercase nor a lowercase letter.\")"
   ]
  },
  {
   "cell_type": "code",
   "execution_count": null,
   "id": "9623ea10-88d6-431d-9843-ef9daad97bdc",
   "metadata": {},
   "outputs": [],
   "source": [
    "#Question 18"
   ]
  },
  {
   "cell_type": "code",
   "execution_count": 3,
   "id": "44b6128d-860e-4fef-885c-ed4b8418d495",
   "metadata": {},
   "outputs": [
    {
     "name": "stdin",
     "output_type": "stream",
     "text": [
      "Enter coefficient a:  5\n",
      "Enter coefficient b:  7\n",
      "Enter coefficient c:  2\n"
     ]
    },
    {
     "name": "stdout",
     "output_type": "stream",
     "text": [
      "The roots are real and different: -0.4 and -1.0\n"
     ]
    }
   ],
   "source": [
    "import math\n",
    "\n",
    "a = float(input(\"Enter coefficient a: \"))\n",
    "b = float(input(\"Enter coefficient b: \"))\n",
    "c = float(input(\"Enter coefficient c: \"))\n",
    "\n",
    "discriminant = b**2 - 4*a*c\n",
    "\n",
    "# Check if a is zero\n",
    "if a == 0:\n",
    "    print(\"The equation is not quadratic.\")\n",
    "else:\n",
    "    # Check the discriminant\n",
    "    if discriminant > 0:\n",
    "        root1 = (-b + math.sqrt(discriminant)) / (2 * a)\n",
    "        root2 = (-b - math.sqrt(discriminant)) / (2 * a)\n",
    "        print(f\"The roots are real and different: {root1} and {root2}\")\n",
    "    elif discriminant == 0:\n",
    "        root = -b / (2 * a)\n",
    "        print(f\"The roots are real and equal: {root}\")\n",
    "    else:\n",
    "        real_part = -b / (2 * a)\n",
    "        imaginary_part = math.sqrt(-discriminant) / (2 * a)\n",
    "        print(f\"The roots are complex: {real_part} + {imaginary_part}i and {real_part} - {imaginary_part}i\")"
   ]
  },
  {
   "cell_type": "code",
   "execution_count": null,
   "id": "d3a3518b-6d41-49bb-94a9-77d7e98635a5",
   "metadata": {},
   "outputs": [],
   "source": [
    "#Question 19"
   ]
  },
  {
   "cell_type": "code",
   "execution_count": 40,
   "id": "52bf73f3-d8a6-47d2-8753-cf88e45a31d8",
   "metadata": {},
   "outputs": [
    {
     "name": "stdin",
     "output_type": "stream",
     "text": [
      "Enter a year 2000\n"
     ]
    },
    {
     "name": "stdout",
     "output_type": "stream",
     "text": [
      "Year 2000 is a century year\n"
     ]
    }
   ],
   "source": [
    "year = int(input(\"Enter a year\"))\n",
    "\n",
    "if year % 100 == 0:\n",
    "    print(f\"Year {year} is a century year\")\n",
    "else:\n",
    "    print(f\"Year {year} is not a century year\")"
   ]
  },
  {
   "cell_type": "code",
   "execution_count": null,
   "id": "1f653a31-6da2-4de7-aff3-afd9827a8349",
   "metadata": {},
   "outputs": [],
   "source": [
    "#Question 20"
   ]
  },
  {
   "cell_type": "code",
   "execution_count": 2,
   "id": "0ea84843-3cf9-4346-af60-7cbdc1c6d25c",
   "metadata": {},
   "outputs": [
    {
     "name": "stdin",
     "output_type": "stream",
     "text": [
      "Enter a number:  25\n"
     ]
    },
    {
     "name": "stdout",
     "output_type": "stream",
     "text": [
      "25 is a perfect square.\n"
     ]
    }
   ],
   "source": [
    "import math\n",
    "\n",
    "number = int(input(\"Enter a number: \"))\n",
    "\n",
    "if number < 0:\n",
    "    print(f\"{number} is not a perfect square.\")\n",
    "else:\n",
    "    sqrt = int(math.sqrt(number))\n",
    "    if sqrt * sqrt == number:\n",
    "        print(f\"{number} is a perfect square.\")\n",
    "    else:\n",
    "        print(f\"{number} is not a perfect square.\")"
   ]
  },
  {
   "cell_type": "code",
   "execution_count": null,
   "id": "5617b4cb-aa71-466e-b2a2-7d8665720895",
   "metadata": {},
   "outputs": [],
   "source": [
    "#Question 21"
   ]
  },
  {
   "cell_type": "markdown",
   "id": "d8ff5e2f-78b8-4344-a7be-1bc875c977e2",
   "metadata": {},
   "source": [
    "The \"continue\" statement is used to skip the remaining code inside the loop for the current iteration and move directly to the next iteration of the loop. This is useful when you want to skip certain iterations but continue looping. On the other hand, the \"break\" statement is used to exit the loop entirely when a certain condition is met. It immediately terminates the loop and the control moves to the code following the loop."
   ]
  },
  {
   "cell_type": "code",
   "execution_count": null,
   "id": "ae3192c0-f336-4655-a563-62c2f0853759",
   "metadata": {},
   "outputs": [],
   "source": [
    "#Question 22"
   ]
  },
  {
   "cell_type": "code",
   "execution_count": 4,
   "id": "8b409c99-4379-4cb2-aa83-1ccbd956e414",
   "metadata": {},
   "outputs": [
    {
     "name": "stdin",
     "output_type": "stream",
     "text": [
      "Enter your weight in kg:  58\n",
      "Enter your height in meters:  1.524\n"
     ]
    },
    {
     "name": "stdout",
     "output_type": "stream",
     "text": [
      "Your BMI is: 24.97\n",
      "You are overweight.\n"
     ]
    }
   ],
   "source": [
    "weight = float(input(\"Enter your weight in kg: \"))\n",
    "\n",
    "height = float(input(\"Enter your height in meters: \"))\n",
    "\n",
    "bmi = weight / (height ** 2)\n",
    "\n",
    "print(f\"Your BMI is: {bmi:.2f}\")\n",
    "\n",
    "if bmi < 18.5:\n",
    "    print(\"You are underweight.\")\n",
    "else:\n",
    "    if bmi < 24.9:\n",
    "        print(\"You have a normal weight.\")\n",
    "    else:\n",
    "        if bmi < 29.9:\n",
    "            print(\"You are overweight.\")\n",
    "        else:\n",
    "            print(\"You are obese.\")"
   ]
  },
  {
   "cell_type": "code",
   "execution_count": null,
   "id": "e40a3af3-fdaa-4141-88d1-cd2bced08f6d",
   "metadata": {},
   "outputs": [],
   "source": [
    "#Question 23"
   ]
  },
  {
   "cell_type": "code",
   "execution_count": 5,
   "id": "3cc328d5-55e3-4784-8b91-03db4851f19f",
   "metadata": {},
   "outputs": [
    {
     "name": "stdout",
     "output_type": "stream",
     "text": [
      "[1, 5, 10, 12, 6]\n"
     ]
    }
   ],
   "source": [
    "numbers = [1, -4, 5, 10, -7, 12, -3, 6]\n",
    "\n",
    "def filter_positive(num):\n",
    "    if num > 0:\n",
    "        return True\n",
    "    else:\n",
    "        return False\n",
    "\n",
    "positive_numbers = list(filter(filter_positive, numbers))\n",
    "\n",
    "print(positive_numbers)"
   ]
  },
  {
   "cell_type": "code",
   "execution_count": null,
   "id": "d6c48e57-74d8-4e0c-8f66-246ae6536461",
   "metadata": {},
   "outputs": [],
   "source": [
    "#Question 24"
   ]
  },
  {
   "cell_type": "code",
   "execution_count": 8,
   "id": "cb762542-12f2-46ad-826f-08244118cbb8",
   "metadata": {},
   "outputs": [
    {
     "name": "stdin",
     "output_type": "stream",
     "text": [
      "Enter a number:  12\n"
     ]
    },
    {
     "name": "stdout",
     "output_type": "stream",
     "text": [
      "12 is not a prime number.\n"
     ]
    }
   ],
   "source": [
    "number = int(input(\"Enter a number: \"))\n",
    "\n",
    "if number <= 1:\n",
    "    print(f\"{number} is not a prime number.\")\n",
    "else:\n",
    "    is_prime = True \n",
    "    for i in range(2, int(number ** 0.5) + 1):\n",
    "        if number % i == 0: \n",
    "            is_prime = False\n",
    "            break \n",
    "\n",
    "    if is_prime:\n",
    "        print(f\"{number} is a prime number.\")\n",
    "    else:\n",
    "        print(f\"{number} is not a prime number.\")"
   ]
  },
  {
   "cell_type": "code",
   "execution_count": null,
   "id": "204601c9-8746-4360-99c8-b27bf498e597",
   "metadata": {},
   "outputs": [],
   "source": [
    "#  Map"
   ]
  },
  {
   "cell_type": "code",
   "execution_count": null,
   "id": "995aa108-cf09-4432-84f9-741e13fc3c6f",
   "metadata": {},
   "outputs": [],
   "source": [
    "#Question 1"
   ]
  },
  {
   "cell_type": "markdown",
   "id": "769b90d3-2568-4aad-b46e-978afeafff2f",
   "metadata": {},
   "source": [
    "The map() function in Python is used to apply a given function to every item of an iterable (like a list, tuple, etc.) and return a map object (which is an iterator). The function allows you to process each element in the iterable according to the logic defined in the provided function without needing to write a loop manually.\n",
    "\n",
    "Syntax:\n",
    "\n",
    "map(function, iterable)"
   ]
  },
  {
   "cell_type": "code",
   "execution_count": 1,
   "id": "3fd48462-b71b-4d4f-b6d2-877591b1e564",
   "metadata": {},
   "outputs": [
    {
     "name": "stdout",
     "output_type": "stream",
     "text": [
      "[1, 4, 9, 16, 25]\n"
     ]
    }
   ],
   "source": [
    "#Example\n",
    "\n",
    "def square(n):\n",
    "    return n * n\n",
    "\n",
    "numbers = [1, 2, 3, 4, 5]\n",
    "\n",
    "squared_numbers = list(map(square, numbers))\n",
    "\n",
    "print(squared_numbers) "
   ]
  },
  {
   "cell_type": "code",
   "execution_count": null,
   "id": "a194a010-88fb-443b-9633-71debf50ccb8",
   "metadata": {},
   "outputs": [],
   "source": [
    "#Question 2"
   ]
  },
  {
   "cell_type": "code",
   "execution_count": 2,
   "id": "6b2a50a0-9d0e-46d4-a223-a512fdda84c8",
   "metadata": {},
   "outputs": [
    {
     "name": "stdout",
     "output_type": "stream",
     "text": [
      "Original numbers: [1, 2, 3, 4, 5]\n",
      "Squared numbers: [1, 4, 9, 16, 25]\n"
     ]
    }
   ],
   "source": [
    "def square(n):\n",
    "    return n * n\n",
    "\n",
    "numbers = [1, 2, 3, 4, 5]\n",
    "\n",
    "squared_numbers = list(map(square, numbers))\n",
    "\n",
    "print(\"Original numbers:\", numbers)\n",
    "print(\"Squared numbers:\", squared_numbers)"
   ]
  },
  {
   "cell_type": "code",
   "execution_count": null,
   "id": "2fad964f-9a74-4c42-9df3-a2c958801425",
   "metadata": {},
   "outputs": [],
   "source": [
    "#Question 3"
   ]
  },
  {
   "cell_type": "markdown",
   "id": "fb76fd6b-ee92-4882-a95d-607e261e34fc",
   "metadata": {},
   "source": [
    "The map() function and list comprehensions in Python are both used to apply a function or expression to each element in an iterable (like a list) and generate a new list (or iterator, in the case of map()). However, they have some key differences in terms of syntax, readability, and functionality.\n",
    "\n",
    "Use map() if you prefer functional programming or need lazy evaluation, and use list comprehension for clearer and more readable code in most simple scenarios."
   ]
  },
  {
   "cell_type": "code",
   "execution_count": null,
   "id": "b9fe485a-4193-48ac-8dd9-958c4f31b7af",
   "metadata": {},
   "outputs": [],
   "source": [
    "#Question 4"
   ]
  },
  {
   "cell_type": "code",
   "execution_count": 3,
   "id": "4c73cb5f-ec41-4800-a94c-2899b17d1763",
   "metadata": {},
   "outputs": [
    {
     "name": "stdout",
     "output_type": "stream",
     "text": [
      "Original names: ['Alice', 'Bob', 'Charlie', 'Diana']\n",
      "Uppercase names: ['ALICE', 'BOB', 'CHARLIE', 'DIANA']\n"
     ]
    }
   ],
   "source": [
    "names = [\"Alice\", \"Bob\", \"Charlie\", \"Diana\"]\n",
    "\n",
    "uppercase_names = list(map(str.upper, names))\n",
    "\n",
    "print(\"Original names:\", names)\n",
    "print(\"Uppercase names:\", uppercase_names)"
   ]
  },
  {
   "cell_type": "code",
   "execution_count": null,
   "id": "e33c6318-3128-45db-ba22-63ce83ef8665",
   "metadata": {},
   "outputs": [],
   "source": [
    "#Question 5"
   ]
  },
  {
   "cell_type": "code",
   "execution_count": 4,
   "id": "3da8c85c-1bd6-4cef-adbc-9890b486e8b5",
   "metadata": {},
   "outputs": [
    {
     "name": "stdout",
     "output_type": "stream",
     "text": [
      "Words: ['apple', 'banana', 'cherry', 'date']\n",
      "Lengths of words: [5, 6, 6, 4]\n"
     ]
    }
   ],
   "source": [
    "words = [\"apple\", \"banana\", \"cherry\", \"date\"]\n",
    "\n",
    "word_lengths = list(map(len, words))\n",
    "\n",
    "print(\"Words:\", words)\n",
    "print(\"Lengths of words:\", word_lengths)"
   ]
  },
  {
   "cell_type": "code",
   "execution_count": null,
   "id": "b767b375-8d45-4f95-8205-53b0aa5adc93",
   "metadata": {},
   "outputs": [],
   "source": [
    "#Question 6"
   ]
  },
  {
   "cell_type": "markdown",
   "id": "7e94a80e-89fb-4ae7-88fe-e5914c7d0f6d",
   "metadata": {},
   "source": [
    "You can use the map() function to apply a custom function to elements from multiple lists by passing the function and multiple iterables (such as lists) as arguments. map() will apply the function to the corresponding elements from each list in parallel."
   ]
  },
  {
   "cell_type": "code",
   "execution_count": 6,
   "id": "07209831-795d-48fe-93ab-0eeeeed54157",
   "metadata": {},
   "outputs": [
    {
     "name": "stdout",
     "output_type": "stream",
     "text": [
      "List 1: [1, 2, 3]\n",
      "List 2: [4, 5, 6]\n",
      "Sum of corresponding elements: [5, 7, 9]\n"
     ]
    }
   ],
   "source": [
    "# Example:\n",
    "    \n",
    "# Custom function to add two numbers\n",
    "def add(x, y):\n",
    "    return x + y\n",
    "\n",
    "list1 = [1, 2, 3]\n",
    "list2 = [4, 5, 6]\n",
    "\n",
    "# Use map to add corresponding elements from both lists\n",
    "result = list(map(add, list1, list2))\n",
    "\n",
    "print(\"List 1:\", list1)\n",
    "print(\"List 2:\", list2)\n",
    "print(\"Sum of corresponding elements:\", result)  "
   ]
  },
  {
   "cell_type": "code",
   "execution_count": null,
   "id": "3bce6431-976a-4cbf-8163-607a753669c1",
   "metadata": {},
   "outputs": [],
   "source": [
    "#Question 7"
   ]
  },
  {
   "cell_type": "code",
   "execution_count": 7,
   "id": "bd915832-b469-447f-8972-75a968ea8ec9",
   "metadata": {},
   "outputs": [
    {
     "name": "stdout",
     "output_type": "stream",
     "text": [
      "Celsius temperatures: [0, 20, 37, 100]\n",
      "Fahrenheit temperatures: [32.0, 68.0, 98.6, 212.0]\n"
     ]
    }
   ],
   "source": [
    "def celsius_to_fahrenheit(celsius):\n",
    "    return (celsius * 9/5) + 32\n",
    "\n",
    "celsius_temperatures = [0, 20, 37, 100]\n",
    "\n",
    "fahrenheit_temperatures = list(map(celsius_to_fahrenheit, celsius_temperatures))\n",
    "\n",
    "print(\"Celsius temperatures:\", celsius_temperatures)\n",
    "print(\"Fahrenheit temperatures:\", fahrenheit_temperatures)"
   ]
  },
  {
   "cell_type": "code",
   "execution_count": null,
   "id": "7c50804a-ddc5-4925-8d57-647f091d5d21",
   "metadata": {},
   "outputs": [],
   "source": [
    "#Question 8"
   ]
  },
  {
   "cell_type": "code",
   "execution_count": 8,
   "id": "86a3baa0-7b62-48d6-a8d6-97e5f278639f",
   "metadata": {},
   "outputs": [
    {
     "name": "stdout",
     "output_type": "stream",
     "text": [
      "Original floating-point numbers: [1.2, 2.5, 3.8, 4.4, 5.7]\n",
      "Rounded integers: [1, 2, 4, 4, 6]\n"
     ]
    }
   ],
   "source": [
    "float_numbers = [1.2, 2.5, 3.8, 4.4, 5.7]\n",
    "\n",
    "rounded_numbers = list(map(round, float_numbers))\n",
    "\n",
    "print(\"Original floating-point numbers:\", float_numbers)\n",
    "print(\"Rounded integers:\", rounded_numbers)"
   ]
  },
  {
   "cell_type": "code",
   "execution_count": null,
   "id": "869d3b98-8b0b-4e64-b4c7-39a89ff98565",
   "metadata": {},
   "outputs": [],
   "source": [
    "# Reduce"
   ]
  },
  {
   "cell_type": "code",
   "execution_count": null,
   "id": "270538b7-9477-477c-9d75-a03063dbb88c",
   "metadata": {},
   "outputs": [],
   "source": [
    "#Question 1"
   ]
  },
  {
   "cell_type": "markdown",
   "id": "3c12b6fa-9ee1-4e71-897f-a66d37ece713",
   "metadata": {},
   "source": [
    "The reduce() function in Python is a higher-order function that applies a binary function (a function that takes two arguments) cumulatively to the items of an iterable, reducing the iterable to a single value.\n",
    "\n",
    "To use reduce(), you need to import it from the functools module:\n",
    "\n",
    "from functools import reduce"
   ]
  },
  {
   "cell_type": "code",
   "execution_count": 9,
   "id": "3c705226-cbd4-4989-9415-f02fea705d0c",
   "metadata": {},
   "outputs": [
    {
     "name": "stdout",
     "output_type": "stream",
     "text": [
      "Product of all elements: 24\n"
     ]
    }
   ],
   "source": [
    "from functools import reduce\n",
    "\n",
    "def multiply(x, y):\n",
    "    return x * y\n",
    "\n",
    "numbers = [1, 2, 3, 4]\n",
    "\n",
    "product = reduce(multiply, numbers)\n",
    "\n",
    "print(\"Product of all elements:\", product)"
   ]
  },
  {
   "cell_type": "code",
   "execution_count": null,
   "id": "4ae08cbb-b83f-4bf6-90a1-c6d7ababfce5",
   "metadata": {},
   "outputs": [],
   "source": [
    "#Question 2"
   ]
  },
  {
   "cell_type": "code",
   "execution_count": 10,
   "id": "e21010e3-0651-4d70-9ce5-259155d23c2c",
   "metadata": {},
   "outputs": [
    {
     "name": "stdout",
     "output_type": "stream",
     "text": [
      "Product of all elements: 24\n"
     ]
    }
   ],
   "source": [
    "from functools import reduce\n",
    "\n",
    "def multiply(x, y):\n",
    "    return x * y\n",
    "\n",
    "numbers = [1, 2, 3, 4]\n",
    "\n",
    "product = reduce(multiply, numbers)\n",
    "\n",
    "print(\"Product of all elements:\", product)"
   ]
  },
  {
   "cell_type": "code",
   "execution_count": null,
   "id": "52e4b218-ad36-4e93-980b-b2cdbac118eb",
   "metadata": {},
   "outputs": [],
   "source": [
    "#Question 3"
   ]
  },
  {
   "cell_type": "code",
   "execution_count": 11,
   "id": "4ff0398d-f3bd-454d-8057-205283aad31e",
   "metadata": {},
   "outputs": [
    {
     "name": "stdout",
     "output_type": "stream",
     "text": [
      "Maximum element in the list: 9\n"
     ]
    }
   ],
   "source": [
    "from functools import reduce\n",
    "\n",
    "def maximum(x, y):\n",
    "    return x if x > y else y\n",
    "\n",
    "numbers = [5, 3, 9, 1, 7]\n",
    "\n",
    "max_value = reduce(maximum, numbers)\n",
    "\n",
    "print(\"Maximum element in the list:\", max_value)"
   ]
  },
  {
   "cell_type": "code",
   "execution_count": null,
   "id": "2951a52b-04b4-498d-b49d-6d45a1640cb0",
   "metadata": {},
   "outputs": [],
   "source": [
    "#Question 4"
   ]
  },
  {
   "cell_type": "code",
   "execution_count": 25,
   "id": "8c3bd788-02b8-48e8-aaa5-5caf36f98344",
   "metadata": {},
   "outputs": [
    {
     "name": "stdout",
     "output_type": "stream",
     "text": [
      "Concatenated string: Hello world! Welcome to Python.\n"
     ]
    }
   ],
   "source": [
    "from functools import reduce\n",
    "\n",
    "def concatenate(str1, str2):\n",
    "    return str1 + str2\n",
    "\n",
    "strings = [\"Hello\", \" \", \"world\", \"!\", \" Welcome\", \" to\", \" Python.\"]\n",
    "\n",
    "result = reduce(concatenate, strings)\n",
    "\n",
    "print(\"Concatenated string:\", result)"
   ]
  },
  {
   "cell_type": "code",
   "execution_count": 24,
   "id": "fe56a459-315e-4d29-b085-7ad5c1606ed4",
   "metadata": {},
   "outputs": [],
   "source": [
    "#Question 5"
   ]
  },
  {
   "cell_type": "code",
   "execution_count": 28,
   "id": "9d390fa2-b918-4ca3-8f80-311395a88080",
   "metadata": {},
   "outputs": [
    {
     "name": "stdout",
     "output_type": "stream",
     "text": [
      "The factorial of 5 is: 120\n"
     ]
    }
   ],
   "source": [
    "from functools import reduce\n",
    "\n",
    "def multiply(x, y):\n",
    "    return x * y\n",
    "\n",
    "def factorial(n):\n",
    "    if n == 0: \n",
    "        return 1\n",
    "    numbers = list(range(1, n + 1))\n",
    "\n",
    "    return reduce(multiply, numbers)\n",
    "\n",
    "num = 5 \n",
    "\n",
    "result = factorial(num)\n",
    "\n",
    "print(f\"The factorial of {num} is: {result}\")"
   ]
  },
  {
   "cell_type": "code",
   "execution_count": null,
   "id": "64e37a2e-26e6-452d-9ae7-81f72aa62e5f",
   "metadata": {},
   "outputs": [],
   "source": [
    "#Question 6"
   ]
  },
  {
   "cell_type": "code",
   "execution_count": 29,
   "id": "46e8ae7a-46f1-40b9-abff-1bc7ef15dad0",
   "metadata": {},
   "outputs": [
    {
     "name": "stdout",
     "output_type": "stream",
     "text": [
      "The GCD of the list is: 16\n"
     ]
    }
   ],
   "source": [
    "from functools import reduce\n",
    "import math\n",
    "\n",
    "def gcd(x, y):\n",
    "    return math.gcd(x, y)\n",
    "\n",
    "numbers = [48, 64, 32]\n",
    "\n",
    "gcd_result = reduce(gcd, numbers)\n",
    "\n",
    "print(\"The GCD of the list is:\", gcd_result)"
   ]
  },
  {
   "cell_type": "code",
   "execution_count": null,
   "id": "e129bd08-74b7-4797-8734-e71d848088dd",
   "metadata": {},
   "outputs": [],
   "source": [
    "#Question 7"
   ]
  },
  {
   "cell_type": "code",
   "execution_count": 30,
   "id": "c20d3412-190b-494d-a666-55769cfadd33",
   "metadata": {},
   "outputs": [
    {
     "name": "stdout",
     "output_type": "stream",
     "text": [
      "The sum of the digits of 12345 is: 15\n"
     ]
    }
   ],
   "source": [
    "from functools import reduce\n",
    "\n",
    "def add(x, y):\n",
    "    return x + y\n",
    "\n",
    "def sum_of_digits(n):\n",
    "    # Convert the number to a string, then to a list of integers\n",
    "    digits = [int(digit) for digit in str(n)]\n",
    "\n",
    "    return reduce(add, digits)\n",
    "\n",
    "number = 12345\n",
    "\n",
    "result = sum_of_digits(number)\n",
    "\n",
    "print(f\"The sum of the digits of {number} is: {result}\")"
   ]
  },
  {
   "cell_type": "code",
   "execution_count": null,
   "id": "ec4b9efb-55da-43fe-a4dc-49da7def37d7",
   "metadata": {},
   "outputs": [],
   "source": [
    "# Filter"
   ]
  },
  {
   "cell_type": "code",
   "execution_count": null,
   "id": "c30691b7-88ba-4e33-84d8-5b3a5a20e5f4",
   "metadata": {},
   "outputs": [],
   "source": [
    "#Question 1"
   ]
  },
  {
   "cell_type": "markdown",
   "id": "278d9d5d-5de4-43df-a631-bcc6f5ec787a",
   "metadata": {},
   "source": [
    "The filter() function in Python is used to filter elements from an iterable (such as a list, tuple, or string) based on a specified condition. It applies a function that returns either True or False to each element of the iterable, retaining only those elements for which the function returns True."
   ]
  },
  {
   "cell_type": "code",
   "execution_count": 31,
   "id": "53a3136c-34d1-4595-b23b-4b84ca47756d",
   "metadata": {},
   "outputs": [
    {
     "name": "stdout",
     "output_type": "stream",
     "text": [
      "Odd numbers: [1, 3, 5, 7, 9]\n"
     ]
    }
   ],
   "source": [
    "#Example\n",
    "\n",
    "def is_odd(number):\n",
    "    return number % 2 != 0\n",
    "\n",
    "numbers = [1, 2, 3, 4, 5, 6, 7, 8, 9, 10]\n",
    "\n",
    "odd_numbers = list(filter(is_odd, numbers))\n",
    "\n",
    "print(\"Odd numbers:\", odd_numbers)"
   ]
  },
  {
   "cell_type": "code",
   "execution_count": null,
   "id": "9fd5737d-1907-4dec-a5ff-7a953ed7ac1e",
   "metadata": {},
   "outputs": [],
   "source": [
    "#Question 2"
   ]
  },
  {
   "cell_type": "code",
   "execution_count": 33,
   "id": "9891ade5-5dcc-4a23-b35b-2abbb17db4de",
   "metadata": {},
   "outputs": [
    {
     "name": "stdout",
     "output_type": "stream",
     "text": [
      "Even numbers: [2, 4, 6, 8, 10]\n"
     ]
    }
   ],
   "source": [
    "def is_even(number):\n",
    "    return number % 2 == 0\n",
    "\n",
    "numbers = [1, 2, 3, 4, 5, 6, 7, 8, 9, 10]\n",
    "\n",
    "even_numbers = list(filter(is_even, numbers))\n",
    "\n",
    "print(\"Even numbers:\", even_numbers)"
   ]
  },
  {
   "cell_type": "code",
   "execution_count": null,
   "id": "37dbb8ea-d256-4f82-9fc9-d6c78295a58a",
   "metadata": {},
   "outputs": [],
   "source": [
    "#Question 3"
   ]
  },
  {
   "cell_type": "code",
   "execution_count": 34,
   "id": "9e89ee2e-3a2b-4494-b0e7-53c82e5c21f1",
   "metadata": {},
   "outputs": [
    {
     "name": "stdout",
     "output_type": "stream",
     "text": [
      "Names that start with 'A': ['Alice']\n"
     ]
    }
   ],
   "source": [
    "def starts_with(letter, name):\n",
    "    return name.lower().startswith(letter.lower())\n",
    "\n",
    "names = [\"Alice\", \"Bob\", \"Charlie\", \"David\", \"Eve\", \"Frank\", \"Grace\"]\n",
    "\n",
    "# Specify the letter to filter by\n",
    "filter_letter = 'A' \n",
    "\n",
    "# Use filter\n",
    "filtered_names = list(filter(lambda name: starts_with(filter_letter, name), names))\n",
    "\n",
    "print(f\"Names that start with '{filter_letter}':\", filtered_names)"
   ]
  },
  {
   "cell_type": "code",
   "execution_count": null,
   "id": "fd9fb4af-75f4-4514-8964-17d627ce7b15",
   "metadata": {},
   "outputs": [],
   "source": [
    "#Question 4"
   ]
  },
  {
   "cell_type": "code",
   "execution_count": 35,
   "id": "17b89ba4-7695-4858-b592-3c782ffb94dc",
   "metadata": {},
   "outputs": [
    {
     "name": "stdout",
     "output_type": "stream",
     "text": [
      "Prime numbers in the list: [23, 29, 37, 11, 2, 19]\n"
     ]
    }
   ],
   "source": [
    "def is_prime(n):\n",
    "    if n <= 1:\n",
    "        return False\n",
    "    for i in range(2, int(n**0.5) + 1):\n",
    "        if n % i == 0:\n",
    "            return False\n",
    "    return True\n",
    "\n",
    "numbers = [10, 15, 23, 42, 29, 37, 50, 11, 2, 4, 19]\n",
    "\n",
    "prime_numbers = list(filter(is_prime, numbers))\n",
    "\n",
    "print(\"Prime numbers in the list:\", prime_numbers)"
   ]
  },
  {
   "cell_type": "code",
   "execution_count": null,
   "id": "10cc156d-a04e-4c81-9f7b-c70d9074f776",
   "metadata": {},
   "outputs": [],
   "source": [
    "#Question 5"
   ]
  },
  {
   "cell_type": "markdown",
   "id": "83c45560-b267-430d-8528-b293e7a3853e",
   "metadata": {},
   "source": [
    " You can use the filter() function to remove None values from a list by applying a filtering condition that checks\n",
    "for truthy values. Since None evaluates to False, you can simply use filter() without specifying a custom function; \n",
    "it will automatically filter out all values that are False, including None"
   ]
  },
  {
   "cell_type": "code",
   "execution_count": 36,
   "id": "ea91768d-b520-4599-a605-1e23debe03dc",
   "metadata": {},
   "outputs": [
    {
     "name": "stdout",
     "output_type": "stream",
     "text": [
      "List after removing None values: [1, 2, 3, 4, 5]\n"
     ]
    }
   ],
   "source": [
    "# List with some None values\n",
    "mixed_list = [1, None, 2, None, 3, 4, None, 5]\n",
    "\n",
    "# Use filter to remove None values\n",
    "filtered_list = list(filter(lambda x: x is not None, mixed_list))\n",
    "\n",
    "print(\"List after removing None values:\", filtered_list)"
   ]
  },
  {
   "cell_type": "code",
   "execution_count": null,
   "id": "d134f7a0-d92a-4ebd-8e41-13693c99e3c1",
   "metadata": {},
   "outputs": [],
   "source": [
    "#Question 6"
   ]
  },
  {
   "cell_type": "code",
   "execution_count": 37,
   "id": "760c4d62-5903-41e8-a73c-dd5b7e6a3961",
   "metadata": {},
   "outputs": [
    {
     "name": "stdout",
     "output_type": "stream",
     "text": [
      "Words longer than 5 characters: ['banana', 'cherry', 'elderberry']\n"
     ]
    }
   ],
   "source": [
    "def is_longer_than(word, length):\n",
    "    return len(word) > length\n",
    "\n",
    "words = [\"apple\", \"banana\", \"cherry\", \"date\", \"elderberry\", \"fig\", \"grape\"]\n",
    "\n",
    "min_length = 5 \n",
    "\n",
    "long_words = list(filter(lambda word: is_longer_than(word, min_length), words))\n",
    "\n",
    "print(f\"Words longer than {min_length} characters:\", long_words)"
   ]
  },
  {
   "cell_type": "code",
   "execution_count": null,
   "id": "e946eb56-0b5b-4403-b8cd-adbb1262a4ea",
   "metadata": {},
   "outputs": [],
   "source": [
    "#Question 7"
   ]
  },
  {
   "cell_type": "code",
   "execution_count": 38,
   "id": "a920818e-d2a5-4d98-95e3-bc0db2e6f440",
   "metadata": {},
   "outputs": [
    {
     "name": "stdout",
     "output_type": "stream",
     "text": [
      "Values greater than 50: [60, 75, 80, 90]\n"
     ]
    }
   ],
   "source": [
    "def is_greater_than(value, threshold):\n",
    "    return value > threshold\n",
    "\n",
    "values = [10, 25, 30, 45, 60, 75, 80, 90]\n",
    "\n",
    "threshold = 50 \n",
    "\n",
    "filtered_values = list(filter(lambda x: is_greater_than(x, threshold), values))\n",
    "\n",
    "print(f\"Values greater than {threshold}:\", filtered_values)"
   ]
  },
  {
   "cell_type": "code",
   "execution_count": null,
   "id": "7f5e1735-0041-4f4c-903c-b2348cfa0e26",
   "metadata": {},
   "outputs": [],
   "source": [
    "# Recursion"
   ]
  },
  {
   "cell_type": "code",
   "execution_count": null,
   "id": "afd46624-a0ac-4217-9343-274f629a0b11",
   "metadata": {},
   "outputs": [],
   "source": [
    "#Question 1"
   ]
  },
  {
   "cell_type": "markdown",
   "id": "ff367e9b-b72d-4a72-a7bd-b2920032a8bf",
   "metadata": {},
   "source": [
    "Recursion is a programming technique in which a function calls itself in order to solve a problem. It typically involves breaking down a complex problem into smaller, more manageable subproblems of the same type. Each recursive call moves towards a base case, which is a condition that stops further recursive calls and begins to unwind the call stack.\n",
    "\n",
    "Recursion is useful for problems that can be broken down into smaller subproblems, while iteration is more efficient for repetitive tasks that require a simple loop."
   ]
  },
  {
   "cell_type": "code",
   "execution_count": null,
   "id": "91a4aaf8-21c6-4e77-a206-aa5d2c296a10",
   "metadata": {},
   "outputs": [],
   "source": [
    "#Question 2"
   ]
  },
  {
   "cell_type": "code",
   "execution_count": 1,
   "id": "cc98ec24-efc3-4b0c-8ae8-c1f63278ca0f",
   "metadata": {},
   "outputs": [
    {
     "name": "stdout",
     "output_type": "stream",
     "text": [
      "24\n"
     ]
    }
   ],
   "source": [
    "def fact(n):\n",
    "    if n == 0 or n == 1:\n",
    "        return 1\n",
    "    else:\n",
    "        factorial = n * fact(n-1)\n",
    "        return factorial\n",
    "    \n",
    "print(fact(4))"
   ]
  },
  {
   "cell_type": "code",
   "execution_count": null,
   "id": "f7d9880e-ef77-45ca-a8ac-cd5838d06d44",
   "metadata": {},
   "outputs": [],
   "source": [
    "#Question 3 "
   ]
  },
  {
   "cell_type": "code",
   "execution_count": 3,
   "id": "90d807f5-d3ce-4985-8a2e-e5eb929aff96",
   "metadata": {},
   "outputs": [
    {
     "name": "stdout",
     "output_type": "stream",
     "text": [
      "The 6th Fibonacci number is: 8\n"
     ]
    }
   ],
   "source": [
    "def fibonacci(n):\n",
    "    if n < 0:\n",
    "        return \"Invalid input\"\n",
    "    elif n == 0:\n",
    "        return 0 \n",
    "    elif n == 1:\n",
    "        return 1 \n",
    "    else:\n",
    "        return fibonacci(n - 1) + fibonacci(n - 2) \n",
    "\n",
    "n = 6 \n",
    "print(f\"The {n}th Fibonacci number is: {fibonacci(n)}\")"
   ]
  },
  {
   "cell_type": "code",
   "execution_count": null,
   "id": "e936bdbf-be18-4576-9c20-a99bacc29a39",
   "metadata": {},
   "outputs": [],
   "source": [
    "#Question 4"
   ]
  },
  {
   "cell_type": "code",
   "execution_count": 4,
   "id": "2dc80b77-1199-4f75-a3c4-f87c6756b5a7",
   "metadata": {},
   "outputs": [
    {
     "name": "stdout",
     "output_type": "stream",
     "text": [
      "The sum of the list elements is: 15\n"
     ]
    }
   ],
   "source": [
    "def recursive_sum(lst):\n",
    "    if not lst:\n",
    "        return 0\n",
    "    else:\n",
    "        return lst[0] + recursive_sum(lst[1:])\n",
    "\n",
    "numbers = [1, 2, 3, 4, 5]\n",
    "total_sum = recursive_sum(numbers)\n",
    "print(f\"The sum of the list elements is: {total_sum}\")"
   ]
  },
  {
   "cell_type": "code",
   "execution_count": null,
   "id": "28b513bc-6a09-44f6-b229-c01fd1c6dda2",
   "metadata": {},
   "outputs": [],
   "source": [
    "#Question 5"
   ]
  },
  {
   "cell_type": "markdown",
   "id": "6cbe28bb-09b7-4ade-a0bb-76881a1638dc",
   "metadata": {},
   "source": [
    "By defining base cases, ensuring that each call progresses toward those base cases, limiting recursion depth, and considering iterative solutions when necessary, we can effectively prevent a recursive function from running indefinitely and causing a stack overflow error."
   ]
  },
  {
   "cell_type": "code",
   "execution_count": null,
   "id": "292fb3f5-868f-4063-80c8-a8f0ebae05d6",
   "metadata": {},
   "outputs": [],
   "source": [
    "#Question 6"
   ]
  },
  {
   "cell_type": "code",
   "execution_count": 5,
   "id": "23384ed2-e626-49de-82e2-35e01b41556d",
   "metadata": {},
   "outputs": [
    {
     "name": "stdout",
     "output_type": "stream",
     "text": [
      "The GCD of 48 and 18 is: 6\n"
     ]
    }
   ],
   "source": [
    "def gcd(a, b):\n",
    "    # Base case: if b is 0, then GCD is 'a'\n",
    "    if b == 0:\n",
    "        return a\n",
    "    else:\n",
    "        # Recursive case\n",
    "        return gcd(b, a % b)\n",
    "\n",
    "num1 = 48\n",
    "num2 = 18\n",
    "result = gcd(num1, num2)\n",
    "print(f\"The GCD of {num1} and {num2} is: {result}\")"
   ]
  },
  {
   "cell_type": "code",
   "execution_count": null,
   "id": "90bd567a-b3f0-4dac-8692-5f9b937cbc22",
   "metadata": {},
   "outputs": [],
   "source": [
    "#Question 7"
   ]
  },
  {
   "cell_type": "code",
   "execution_count": 6,
   "id": "dd66556e-af07-4c18-b399-bdd610508e38",
   "metadata": {},
   "outputs": [
    {
     "name": "stdout",
     "output_type": "stream",
     "text": [
      "The reversed string is: !dlroW ,olleH\n"
     ]
    }
   ],
   "source": [
    "def reverse_string(s):\n",
    "    if len(s) == 0 or len(s) == 1:\n",
    "        return s\n",
    "    else:\n",
    "        return s[-1] + reverse_string(s[:-1])\n",
    "\n",
    "input_string = \"Hello, World!\"\n",
    "reversed_string = reverse_string(input_string)\n",
    "print(f\"The reversed string is: {reversed_string}\")"
   ]
  },
  {
   "cell_type": "code",
   "execution_count": null,
   "id": "1535c8af-0aa6-4c09-ba88-924714ba67fb",
   "metadata": {},
   "outputs": [],
   "source": [
    "#Question 8"
   ]
  },
  {
   "cell_type": "code",
   "execution_count": 7,
   "id": "8752d610-70a8-4425-972e-d90704608637",
   "metadata": {},
   "outputs": [
    {
     "name": "stdout",
     "output_type": "stream",
     "text": [
      "2 raised to the power of 3 is: 8\n"
     ]
    }
   ],
   "source": [
    "def power(x, n):\n",
    "    if n == 0:\n",
    "        return 1\n",
    "    elif n < 0:\n",
    "        return 1 / power(x, -n)\n",
    "    else:\n",
    "        return x * power(x, n - 1)\n",
    "\n",
    "base = 2\n",
    "exponent = 3\n",
    "result = power(base, exponent)\n",
    "print(f\"{base} raised to the power of {exponent} is: {result}\")"
   ]
  },
  {
   "cell_type": "code",
   "execution_count": null,
   "id": "9287e6a9-afc0-4806-ae26-3abc5c59466c",
   "metadata": {},
   "outputs": [],
   "source": [
    "#Question 9"
   ]
  },
  {
   "cell_type": "code",
   "execution_count": 9,
   "id": "42a2ad74-8d10-4b04-97d4-4477a71ea73f",
   "metadata": {},
   "outputs": [
    {
     "name": "stdout",
     "output_type": "stream",
     "text": [
      "All permutations of 'abc' are: ['abc', 'acb', 'bac', 'bca', 'cab', 'cba']\n"
     ]
    }
   ],
   "source": [
    "def permutations(s):\n",
    "    if len(s) <= 1:\n",
    "        return [s]\n",
    "    \n",
    "    result = []\n",
    "    \n",
    "    for i in range(len(s)):\n",
    "        current_char = s[i]\n",
    "        \n",
    "        remaining_chars = s[:i] + s[i+1:]\n",
    "        for perm in permutations(remaining_chars):\n",
    "            result.append(current_char + perm)\n",
    "    \n",
    "    return result\n",
    "\n",
    "input_string = \"abc\"\n",
    "all_permutations = permutations(input_string)\n",
    "print(f\"All permutations of '{input_string}' are: {all_permutations}\")"
   ]
  },
  {
   "cell_type": "code",
   "execution_count": null,
   "id": "319ee969-f706-40f4-85e2-4aec2ee7a676",
   "metadata": {},
   "outputs": [],
   "source": [
    "#Question 10"
   ]
  },
  {
   "cell_type": "code",
   "execution_count": 10,
   "id": "d377b453-2627-454c-9b01-f639a6a1ea5f",
   "metadata": {},
   "outputs": [
    {
     "name": "stdout",
     "output_type": "stream",
     "text": [
      "The string 'racecar' is a palindrome: True\n"
     ]
    }
   ],
   "source": [
    "def is_palindrome(s):\n",
    "    if len(s) <= 1:\n",
    "        return True\n",
    "    \n",
    "    if s[0] != s[-1]:\n",
    "        return False\n",
    "    \n",
    "    return is_palindrome(s[1:-1])\n",
    "\n",
    "input_string = \"racecar\"\n",
    "result = is_palindrome(input_string)\n",
    "print(f\"The string '{input_string}' is a palindrome: {result}\")"
   ]
  },
  {
   "cell_type": "code",
   "execution_count": null,
   "id": "0e4b3e30-e90f-4dc7-ad41-713ef946af37",
   "metadata": {},
   "outputs": [],
   "source": [
    "#Question 11"
   ]
  },
  {
   "cell_type": "code",
   "execution_count": 13,
   "id": "b2f1abd2-99a7-4f38-9ba9-402cda7572b2",
   "metadata": {},
   "outputs": [
    {
     "name": "stdout",
     "output_type": "stream",
     "text": [
      "All combinations of length 2 from ['a', 'b', 'c'] are: [['a', 'b'], ['a', 'c'], ['b', 'c']]\n"
     ]
    }
   ],
   "source": [
    "def combinations(elements, r):\n",
    "    if r == 0:\n",
    "        return [[]]\n",
    "    \n",
    "    if not elements:\n",
    "        return []\n",
    "    \n",
    "    first = elements[0]\n",
    "    rest = elements[1:]\n",
    "\n",
    "    with_first = [[first] + comb for comb in combinations(rest, r - 1)]\n",
    "    \n",
    "    without_first = combinations(rest, r)\n",
    "\n",
    "    return with_first + without_first\n",
    "\n",
    "input_list = ['a', 'b', 'c']\n",
    "r = 2\n",
    "all_combinations = combinations(input_list, r)\n",
    "print(f\"All combinations of length {r} from {input_list} are: {all_combinations}\")"
   ]
  },
  {
   "cell_type": "code",
   "execution_count": null,
   "id": "a3f69ae3-b99c-40f7-9eec-e1ba3fe5c1a1",
   "metadata": {},
   "outputs": [],
   "source": [
    "# Basics of Functions"
   ]
  },
  {
   "cell_type": "code",
   "execution_count": null,
   "id": "15016d16-e3d2-4fb7-8220-4b99aae484c4",
   "metadata": {},
   "outputs": [],
   "source": [
    "#Question 1"
   ]
  },
  {
   "cell_type": "markdown",
   "id": "e287f3d9-36ea-452a-afad-a0465454b40f",
   "metadata": {},
   "source": [
    "A function in Python is a reusable block of code that performs a specific task. Functions allow you to organize your code, make it more readable, and avoid repetition.\n",
    "\n",
    "Functions are used in Python programming because they promote code reuse, modularity, and readability. They facilitate abstraction, encapsulation, and testing, making it easier to develop, maintain, and collaborate on complex software projects. Functions are a foundational concept that leads to better-organized and more efficient code."
   ]
  },
  {
   "cell_type": "code",
   "execution_count": null,
   "id": "f2d83f1e-38f7-4119-b717-f3de0efbfe99",
   "metadata": {},
   "outputs": [],
   "source": [
    "#Question 2"
   ]
  },
  {
   "cell_type": "markdown",
   "id": "3385f929-a279-47f2-8dcd-18aea5b8bbf0",
   "metadata": {},
   "source": [
    "In Python, a function is defined using the def keyword, followed by the function name, parentheses that may include parameters, and a colon. The code block inside the function is indented.\n",
    "\n",
    "Basic Syntax of a function \n",
    "\n",
    "def function_name(parameters):\n",
    "    # Code block\n",
    "    return result  # Optional return statement"
   ]
  },
  {
   "cell_type": "code",
   "execution_count": 14,
   "id": "4be47e6d-54bd-4f19-be42-513cffe44379",
   "metadata": {},
   "outputs": [
    {
     "name": "stdout",
     "output_type": "stream",
     "text": [
      "The square of 5 is: 25\n"
     ]
    }
   ],
   "source": [
    "#Example\n",
    "\n",
    "def square(num):\n",
    "    return num * num\n",
    "\n",
    "# Test the function\n",
    "result = square(5)\n",
    "print(f\"The square of 5 is: {result}\")"
   ]
  },
  {
   "cell_type": "code",
   "execution_count": null,
   "id": "7a3bee41-6754-454e-aa7c-bdc7ae559117",
   "metadata": {},
   "outputs": [],
   "source": [
    "#Question 3"
   ]
  },
  {
   "cell_type": "markdown",
   "id": "505ec65b-26ca-436a-af12-d61af965919a",
   "metadata": {},
   "source": [
    "The difference between a function definition and a function call is fundamental in understanding how functions work in programming.\n",
    "\n",
    "Based on different aspects:\n",
    "\n",
    "1. Definition:\n",
    "Function Definition describes what the function does while Function Call executes the function.\n",
    "\n",
    "2. Syntax:\n",
    "For Function Definition:\n",
    "def function_name(parameters):\n",
    "\n",
    "For Function Call:\n",
    "function_name(arguments)\n",
    "\n",
    "3. Purpose:\n",
    "Function Definition : To create a reusable block of code.\n",
    "Function Call: To use the functionality of the function.\n",
    "\n",
    "4. Example:\n",
    "For Function Definition:\n",
    "\n",
    "def greet(name):\n",
    "\n",
    "For Function Call:\n",
    "greet(\"Alice\")"
   ]
  },
  {
   "cell_type": "code",
   "execution_count": null,
   "id": "ff537dd4-bbec-4d39-be3d-6b82ae2f3d65",
   "metadata": {},
   "outputs": [],
   "source": [
    "#Question 4"
   ]
  },
  {
   "cell_type": "code",
   "execution_count": 15,
   "id": "e8d5988d-a541-413b-a70e-aacc69679976",
   "metadata": {},
   "outputs": [
    {
     "name": "stdout",
     "output_type": "stream",
     "text": [
      "The sum of 5 and 7 is: 12\n"
     ]
    }
   ],
   "source": [
    "def sum_of_two_numbers(a, b):\n",
    "# Calculate the sum of two numbers\n",
    "    return a + b\n",
    "\n",
    "# Call the function with two numbers\n",
    "result = sum_of_two_numbers(5, 7)\n",
    "\n",
    "# Print the result\n",
    "print(f\"The sum of 5 and 7 is: {result}\")"
   ]
  },
  {
   "cell_type": "code",
   "execution_count": null,
   "id": "af578893-46ae-4bca-808f-eca1979057af",
   "metadata": {},
   "outputs": [],
   "source": [
    "#Question 5"
   ]
  },
  {
   "cell_type": "markdown",
   "id": "62c6e7f6-19f2-4133-8851-c6e45f67ed88",
   "metadata": {},
   "source": [
    "A function signature in Python is a way to describe the characteristics of a function, including its name, the parameters it takes, and its return type. The function signature provides essential information about how the function can be used without needing to look at its internal implementation."
   ]
  },
  {
   "cell_type": "code",
   "execution_count": null,
   "id": "26f4e882-56e5-48e5-af3b-1e25e1785607",
   "metadata": {},
   "outputs": [],
   "source": [
    "#Question 6"
   ]
  },
  {
   "cell_type": "code",
   "execution_count": 16,
   "id": "5bd49cdc-956f-4dfb-bdcd-743e9fe32edb",
   "metadata": {},
   "outputs": [
    {
     "name": "stdout",
     "output_type": "stream",
     "text": [
      "The product of 4 and 5 is: 20\n"
     ]
    }
   ],
   "source": [
    "def multiply(a, b):\n",
    "# Return the product of two numbers\n",
    "    return a * b\n",
    "\n",
    "# Test the function\n",
    "result = multiply(4, 5)\n",
    "print(f\"The product of 4 and 5 is: {result}\")"
   ]
  },
  {
   "cell_type": "code",
   "execution_count": null,
   "id": "a2917842-f2a7-4a67-847e-2b60e8666654",
   "metadata": {},
   "outputs": [],
   "source": [
    "# Function Parameters and Arguments"
   ]
  },
  {
   "cell_type": "code",
   "execution_count": null,
   "id": "928c882f-a472-47d0-a022-d96efebb3a9e",
   "metadata": {},
   "outputs": [],
   "source": [
    "#Question 1"
   ]
  },
  {
   "cell_type": "markdown",
   "id": "044b92d5-5810-48b4-95dc-961db73fc64c",
   "metadata": {},
   "source": [
    "FORMAL PARAMETERS:\n",
    "\n",
    "Formal parameters are the variables defined in the function signature (or header) that act as placeholders for the values that will be passed into the function. They are specified within the parentheses of the function definition.\n",
    "They allow the function to accept input values (arguments) when it is called. Formal parameters define what type of data the function expects to receive, and they can be used within the function body to perform operations.\n",
    "\n",
    "ACTUAL ARGUMENTS:\n",
    "\n",
    "Actual arguments are the real values or expressions that are passed to the function when it is called. These values replace the formal parameters during the execution of the function.\n",
    "They provide the specific data that the function will operate on. Actual arguments can be literals, variables, or expressions, and they correspond to the formal parameters defined in the function."
   ]
  },
  {
   "cell_type": "code",
   "execution_count": null,
   "id": "dc9bf534-57c0-4ea6-bff9-c0fed6cebf12",
   "metadata": {},
   "outputs": [],
   "source": [
    "#Question 2"
   ]
  },
  {
   "cell_type": "code",
   "execution_count": 17,
   "id": "48cba8e0-fce5-48ef-84f5-81e0b3033eb7",
   "metadata": {},
   "outputs": [
    {
     "name": "stdout",
     "output_type": "stream",
     "text": [
      "The area with default dimensions is: 15\n"
     ]
    }
   ],
   "source": [
    "def calculate_area(length=5, width=3):\n",
    "# Calculate the area of a rectangle with default dimensions.\n",
    "    return length * width\n",
    "\n",
    "# Test the function with default values\n",
    "area_default = calculate_area()\n",
    "print(f\"The area with default dimensions is: {area_default}\")"
   ]
  },
  {
   "cell_type": "code",
   "execution_count": null,
   "id": "ac585f0d-645e-40ac-823e-21512541ba87",
   "metadata": {},
   "outputs": [],
   "source": [
    "#Question 3"
   ]
  },
  {
   "cell_type": "markdown",
   "id": "b9e0abb0-b83e-4649-b54a-54550012cdb0",
   "metadata": {},
   "source": [
    "Keyword arguments in Python function calls provide a way to specify which values are assigned to which parameters, improving code clarity and allowing for greater flexibility in how arguments are passed to functions. This makes your code more readable and maintainable, especially in functions with multiple parameters."
   ]
  },
  {
   "cell_type": "code",
   "execution_count": 18,
   "id": "0e32f0ee-dd56-42b3-8e30-0e63bcba2535",
   "metadata": {},
   "outputs": [
    {
     "name": "stdout",
     "output_type": "stream",
     "text": [
      "Name: Alice, Age: 30, City: New York\n",
      "Name: Bob, Age: 25, City: Los Angeles\n"
     ]
    }
   ],
   "source": [
    "def create_profile(name, age, city):\n",
    "# Create a user profile\n",
    "    return f\"Name: {name}, Age: {age}, City: {city}\"\n",
    "\n",
    "# Using keyword arguments in the function call\n",
    "profile1 = create_profile(name=\"Alice\", age=30, city=\"New York\")\n",
    "profile2 = create_profile(city=\"Los Angeles\", age=25, name=\"Bob\")\n",
    "\n",
    "# Print\n",
    "print(profile1)\n",
    "print(profile2)"
   ]
  },
  {
   "cell_type": "code",
   "execution_count": null,
   "id": "d32183a9-d47b-4af4-b945-a9a764dbafd7",
   "metadata": {},
   "outputs": [],
   "source": [
    "#Question 4"
   ]
  },
  {
   "cell_type": "code",
   "execution_count": 19,
   "id": "97aceca7-544c-4dcf-adae-c7f482785c70",
   "metadata": {},
   "outputs": [
    {
     "name": "stdout",
     "output_type": "stream",
     "text": [
      "The sum of 1, 2, and 3 is: 6\n",
      "The sum of 5, 10, 15, and 20 is: 50\n",
      "The sum of 7 and 8 is: 15\n"
     ]
    }
   ],
   "source": [
    "def calculate_sum(*args):\n",
    "# Calculate the sum of a variable number of arguments.\n",
    "    total = sum(args) \n",
    "    return total\n",
    "\n",
    "sum1 = calculate_sum(1, 2, 3)\n",
    "sum2 = calculate_sum(5, 10, 15, 20)\n",
    "sum3 = calculate_sum(7, 8)\n",
    "\n",
    "print(f\"The sum of 1, 2, and 3 is: {sum1}\")\n",
    "print(f\"The sum of 5, 10, 15, and 20 is: {sum2}\")\n",
    "print(f\"The sum of 7 and 8 is: {sum3}\")"
   ]
  },
  {
   "cell_type": "code",
   "execution_count": null,
   "id": "05ead3c9-3500-4a74-99a9-5314c2db4c22",
   "metadata": {},
   "outputs": [],
   "source": [
    "#Question 5"
   ]
  },
  {
   "cell_type": "markdown",
   "id": "0ffea420-7982-46a5-b48f-92ec501650f0",
   "metadata": {},
   "source": [
    "*args: Allows you to pass a variable number of positional arguments, collected as a tuple.\n",
    "**kwargs: Allows you to pass a variable number of keyword arguments, collected as a dictionary."
   ]
  },
  {
   "cell_type": "code",
   "execution_count": null,
   "id": "3d1b3e8b-81fb-4cdd-beb4-3f6a9be8e0a4",
   "metadata": {},
   "outputs": [],
   "source": [
    "# Return Values and Scoping"
   ]
  },
  {
   "cell_type": "code",
   "execution_count": null,
   "id": "4fb4f22c-92b7-40f9-8f91-5b5514cf141f",
   "metadata": {},
   "outputs": [],
   "source": [
    "#Question 1"
   ]
  },
  {
   "cell_type": "markdown",
   "id": "9e6fb9bd-3488-46c9-8f92-61edefec397d",
   "metadata": {},
   "source": [
    "The return statement in Python is used to exit a function and pass a value back to the function caller. When a function is called, it performs its tasks, and at the point where the return statement is encountered, the function ends, and the specified value (if any) is sent back to the caller. If no return is provided, the function will return None by default."
   ]
  },
  {
   "cell_type": "code",
   "execution_count": 1,
   "id": "5edad738-66b0-4288-8adf-a49d405236b9",
   "metadata": {},
   "outputs": [
    {
     "name": "stdout",
     "output_type": "stream",
     "text": [
      "8\n"
     ]
    }
   ],
   "source": [
    "#This example will return a single value\n",
    "\n",
    "def add_numbers(a, b):\n",
    "    result = a + b\n",
    "    return result\n",
    "\n",
    "sum = add_numbers(3, 5)\n",
    "print(sum)"
   ]
  },
  {
   "cell_type": "code",
   "execution_count": 2,
   "id": "db65c0cd-477a-4663-99a3-6a6027945082",
   "metadata": {},
   "outputs": [
    {
     "name": "stdout",
     "output_type": "stream",
     "text": [
      "Alice\n",
      "30\n"
     ]
    }
   ],
   "source": [
    "#This example will return a multiple values\n",
    "\n",
    "def get_user_info():\n",
    "    name = \"Alice\"\n",
    "    age = 30\n",
    "    return name, age\n",
    "\n",
    "user_name, user_age = get_user_info()\n",
    "print(user_name) \n",
    "print(user_age) "
   ]
  },
  {
   "cell_type": "code",
   "execution_count": null,
   "id": "94e1903d-510c-4eb0-ab07-345e0f791b40",
   "metadata": {},
   "outputs": [],
   "source": [
    "#Question 2"
   ]
  },
  {
   "cell_type": "markdown",
   "id": "2a7870ab-2e23-4e41-90df-911607adcc49",
   "metadata": {},
   "source": [
    "In Python, variable scope refers to the region of the program where a variable is accessible. Variables can be classified based on their scope as local or global, depending on where they are declared and used. Understanding scope is essential for avoiding errors and managing variables efficiently.\n",
    "\n",
    "1. Local Scope:\n",
    "\n",
    "A variable declared inside a function is local to that function. It is created when the function is called and is destroyed when the function finishes execution. Local variables cannot be accessed outside the function in which they are defined.\n",
    "\n",
    "example:\n",
    "def my_function():\n",
    "    local_var = 10  # Local variable\n",
    "    print(local_var)\n",
    "\n",
    "my_function()  # Output: 10\n",
    "print(local_var) \n",
    "\n",
    "2. Global Scope:\n",
    "\n",
    "A global variable is declared outside any function or block, typically at the top level of the program. Global variables can be accessed from any function within the program, but modifying them inside a function requires special handling using the global keyword.\n",
    "\n",
    "example:\n",
    "\n",
    "global_var = 20  # Global variable\n",
    "\n",
    "def my_function():\n",
    "    print(global_var)  # Accessible inside the function\n",
    "\n",
    "my_function()  # Output: 20\n",
    "print(global_var)  # Output: 20"
   ]
  },
  {
   "cell_type": "code",
   "execution_count": null,
   "id": "907a511a-189d-4cf3-9f63-7f848a4f1f2d",
   "metadata": {},
   "outputs": [],
   "source": [
    "#Question 3"
   ]
  },
  {
   "cell_type": "code",
   "execution_count": 1,
   "id": "b3f9c166-eed5-4154-9cd6-f50eb6cbdce9",
   "metadata": {},
   "outputs": [
    {
     "name": "stdout",
     "output_type": "stream",
     "text": [
      "Counter after increment: 1\n",
      "Counter after increment: 2\n",
      "Counter after decrement: 1\n",
      "Counter has been reset: 0\n"
     ]
    }
   ],
   "source": [
    "# Global variable\n",
    "counter = 0\n",
    "\n",
    "def increment():\n",
    "    global counter  # Use the global variable 'counter'\n",
    "    counter += 1\n",
    "    print(f\"Counter after increment: {counter}\")\n",
    "\n",
    "def decrement():\n",
    "    global counter  # Use the global variable 'counter'\n",
    "    counter -= 1\n",
    "    print(f\"Counter after decrement: {counter}\")\n",
    "\n",
    "def reset():\n",
    "    global counter  # Use the global variable 'counter'\n",
    "    counter = 0\n",
    "    print(f\"Counter has been reset: {counter}\")\n",
    "\n",
    "# Demonstrating the use of global variables in functions\n",
    "increment() \n",
    "increment() \n",
    "decrement() \n",
    "reset()     "
   ]
  },
  {
   "cell_type": "code",
   "execution_count": null,
   "id": "5dd7f24b-23a3-4664-814f-09444f81d255",
   "metadata": {},
   "outputs": [],
   "source": [
    "#Question 4"
   ]
  },
  {
   "cell_type": "code",
   "execution_count": 2,
   "id": "26e2708e-b292-4652-a71d-7a3f78a29b04",
   "metadata": {},
   "outputs": [
    {
     "name": "stdout",
     "output_type": "stream",
     "text": [
      "Factorial of 5 is 120\n"
     ]
    }
   ],
   "source": [
    "def factorial(n):\n",
    "    if n == 0 or n == 1:\n",
    "        return 1\n",
    "    else:\n",
    "        return n * factorial(n - 1)\n",
    "\n",
    "number = 5\n",
    "result = factorial(number)\n",
    "print(f\"Factorial of {number} is {result}\")"
   ]
  },
  {
   "cell_type": "code",
   "execution_count": null,
   "id": "cf4d0b04-07fd-42e6-af2a-29dbfbba5f42",
   "metadata": {},
   "outputs": [],
   "source": [
    "#Question 5"
   ]
  },
  {
   "cell_type": "code",
   "execution_count": 4,
   "id": "2311c293-f3db-4de0-b1e2-df1d81aadcf1",
   "metadata": {},
   "outputs": [
    {
     "name": "stdout",
     "output_type": "stream",
     "text": [
      "Value of x inside the function: 10\n",
      "Value of x outside the function: 10\n",
      "Value of y inside the function after modification: 15\n",
      "Value of y outside the function: 15\n"
     ]
    }
   ],
   "source": [
    "# In Python, we can access variables defined outside a function (global variables) in two ways:\n",
    "\n",
    "# 1. Accessing a global variable without modifying it\n",
    "# Example\n",
    "\n",
    "x = 10  # Global variable\n",
    "\n",
    "def show_value():\n",
    "    print(f\"Value of x inside the function: {x}\") \n",
    "\n",
    "show_value()\n",
    "print(f\"Value of x outside the function: {x}\") \n",
    "\n",
    "# 2. Modifying a global variable using a global keyword\n",
    "\n",
    "y = 5  # Global variable\n",
    "\n",
    "def modify_value():\n",
    "    global y  # Declare that we're modifying the global variable\n",
    "    y += 10   # Modifying the global variable\n",
    "    print(f\"Value of y inside the function after modification: {y}\")\n",
    "\n",
    "modify_value()\n",
    "print(f\"Value of y outside the function: {y}\")  # The global variable y is updated"
   ]
  },
  {
   "cell_type": "code",
   "execution_count": null,
   "id": "68683646-8ea8-4117-860c-3ccbc98c72ac",
   "metadata": {},
   "outputs": [],
   "source": [
    "# Lambda Functions and Higher Order Functions"
   ]
  },
  {
   "cell_type": "code",
   "execution_count": null,
   "id": "058a2840-e693-4470-993b-9f071d387f4a",
   "metadata": {},
   "outputs": [],
   "source": [
    "#Question 1"
   ]
  },
  {
   "cell_type": "markdown",
   "id": "3027be0f-ca94-4491-a0fc-b28481e27e52",
   "metadata": {},
   "source": [
    "Lambda functions in Python are small, anonymous functions defined using the lambda keyword. They can take any number of arguments but can only have one expression.\n",
    "\n",
    "Lambda functions are often used for short, simple operations where defining a full function would be unnecessarily verbose.Lambda functions are useful for quick, throwaway functions that enhance conciseness and clarity in cases where a full function definition would be overkill."
   ]
  },
  {
   "cell_type": "code",
   "execution_count": null,
   "id": "a662c830-7d42-4f0a-aead-64723c5c6f44",
   "metadata": {},
   "outputs": [],
   "source": [
    "#Question 2"
   ]
  },
  {
   "cell_type": "code",
   "execution_count": 39,
   "id": "fc779347-61f7-4456-82d0-f3f22656b25c",
   "metadata": {},
   "outputs": [
    {
     "name": "stdout",
     "output_type": "stream",
     "text": [
      "Sorted list based on the second element: [('elderberry', 1), ('banana', 2), ('date', 3), ('apple', 5), ('cherry', 8)]\n"
     ]
    }
   ],
   "source": [
    "data = [(\"apple\", 5), (\"banana\", 2), (\"cherry\", 8), (\"date\", 3), (\"elderberry\", 1)]\n",
    "\n",
    "# Use sorted() with a lambda function to sort by the second element of each tuple\n",
    "sorted_data = sorted(data, key=lambda x: x[1])\n",
    "\n",
    "print(\"Sorted list based on the second element:\", sorted_data)"
   ]
  },
  {
   "cell_type": "code",
   "execution_count": null,
   "id": "80178078-a767-4a89-bfae-5b624d660355",
   "metadata": {},
   "outputs": [],
   "source": [
    "#Question 3"
   ]
  },
  {
   "cell_type": "markdown",
   "id": "269b64f5-300f-4dc2-bf5f-7225e5244235",
   "metadata": {},
   "source": [
    "Higher-order functions in Python are functions that can take other functions as arguments, return functions as their results, or both. This concept allows for greater flexibility and modularity in programming, enabling developers to write more abstract and reusable code."
   ]
  },
  {
   "cell_type": "code",
   "execution_count": 40,
   "id": "fc8a5a3b-113f-48aa-bea0-c0189aadb5dd",
   "metadata": {},
   "outputs": [
    {
     "name": "stdout",
     "output_type": "stream",
     "text": [
      "The square of 5 is: 25\n"
     ]
    }
   ],
   "source": [
    "#Example\n",
    "\n",
    "def apply_function(func, value):\n",
    "    return func(value)\n",
    "\n",
    "# A simple function to square a number\n",
    "def square(x):\n",
    "    return x * x\n",
    "\n",
    "# Using the higher-order function\n",
    "result = apply_function(square, 5)\n",
    "\n",
    "print(\"The square of 5 is:\", result)"
   ]
  },
  {
   "cell_type": "code",
   "execution_count": null,
   "id": "823d19f5-b156-47f3-aa62-6e84e3b993e7",
   "metadata": {},
   "outputs": [],
   "source": [
    "#Question 4"
   ]
  },
  {
   "cell_type": "code",
   "execution_count": 41,
   "id": "db5c3868-136a-424c-9f09-4bba0ffb099b",
   "metadata": {},
   "outputs": [
    {
     "name": "stdout",
     "output_type": "stream",
     "text": [
      "Squared numbers: [1, 4, 9, 16, 25]\n",
      "Doubled numbers: [2, 4, 6, 8, 10]\n"
     ]
    }
   ],
   "source": [
    "def apply_to_list(numbers, func):\n",
    "    \"\"\"\n",
    "    Applies the given function to each element in the list of numbers.\n",
    "\n",
    "    Parameters:\n",
    "    numbers (list): A list of numbers.\n",
    "    func (function): A function to apply to each number.\n",
    "\n",
    "    Returns:\n",
    "    list: A new list containing the results.\n",
    "    \"\"\"\n",
    "    return [func(num) for num in numbers]\n",
    "\n",
    "# Example functions\n",
    "def square(x):\n",
    "    return x ** 2\n",
    "\n",
    "def double(x):\n",
    "    return x * 2\n",
    "\n",
    "numbers = [1, 2, 3, 4, 5]\n",
    "\n",
    "squared_numbers = apply_to_list(numbers, square)\n",
    "print(\"Squared numbers:\", squared_numbers)\n",
    "\n",
    "doubled_numbers = apply_to_list(numbers, double)\n",
    "print(\"Doubled numbers:\", doubled_numbers)"
   ]
  },
  {
   "cell_type": "code",
   "execution_count": null,
   "id": "22cdb485-bfa2-4994-a13b-60b85a95d147",
   "metadata": {},
   "outputs": [],
   "source": [
    "# Built-in Functions"
   ]
  },
  {
   "cell_type": "code",
   "execution_count": null,
   "id": "b98c4166-ab14-4fb5-84d6-55387e805678",
   "metadata": {},
   "outputs": [],
   "source": [
    "#Question 1"
   ]
  },
  {
   "cell_type": "markdown",
   "id": "a3cd6341-19bc-45fe-b1e7-e421ac84b8ac",
   "metadata": {},
   "source": [
    "Built-in functions in Python are pre-defined functions that are readily available for use without the need for additional imports. Functions like len(), max(), and min() serve specific purposes that are commonly needed in programming\n",
    "\n",
    "1. len()\n",
    "\n",
    "The len() function returns the number of items (length) in an object. It works with various data types, including strings, lists, tuples, dictionaries, and sets.\n",
    "It's often used to determine the size of a collection or the number of characters in a string.\n",
    "\n",
    "2. max()\n",
    "\n",
    "The max() function returns the largest item from an iterable (like a list or tuple) or the largest of two or more arguments.\n",
    "It's useful for finding the maximum value in a collection of numbers or other comparable items.\n",
    "\n",
    "3. min()\n",
    "\n",
    "The min() function returns the smallest item from an iterable or the smallest of two or more arguments.\n",
    "It's commonly used to find the minimum value in a collection of numbers or other comparable items."
   ]
  },
  {
   "cell_type": "code",
   "execution_count": null,
   "id": "5f3838b3-5f10-4a56-bd71-5094d7329240",
   "metadata": {},
   "outputs": [],
   "source": [
    "#Question 2"
   ]
  },
  {
   "cell_type": "code",
   "execution_count": 42,
   "id": "2bb464a3-1d7d-491d-8784-31069198b9a7",
   "metadata": {},
   "outputs": [
    {
     "name": "stdout",
     "output_type": "stream",
     "text": [
      "Original numbers: [1, 2, 3, 4, 5]\n",
      "Doubled numbers: [2, 4, 6, 8, 10]\n"
     ]
    }
   ],
   "source": [
    "def double(x):\n",
    "    return x * 2\n",
    "\n",
    "numbers = [1, 2, 3, 4, 5]\n",
    "\n",
    "# Use map to apply the double function to each element in the list\n",
    "doubled_numbers = list(map(double, numbers))\n",
    "\n",
    "print(\"Original numbers:\", numbers)\n",
    "print(\"Doubled numbers:\", doubled_numbers)"
   ]
  },
  {
   "cell_type": "code",
   "execution_count": null,
   "id": "cca459c2-6766-4acc-afea-d4a8fe1f1d3d",
   "metadata": {},
   "outputs": [],
   "source": [
    "#Question 3"
   ]
  },
  {
   "cell_type": "markdown",
   "id": "f89fe778-ce7c-451b-a6f1-26846f3300e8",
   "metadata": {},
   "source": [
    "The filter() function in Python is used to construct an iterator from elements of an iterable (like a list, tuple, or string) for which a function returns True. It allows you to filter out elements based on a condition defined by the provided function.\n",
    "\n",
    "It is particularly useful for scenarios where you want to retain a subset of data based on specific criteria.\n",
    "\n",
    "We use filter() for :\n",
    "- Data Cleaning\n",
    "- Conditional Filtering\n",
    "- Improving Readability"
   ]
  },
  {
   "cell_type": "code",
   "execution_count": null,
   "id": "7a548046-3601-4868-9dbf-fadcb615432e",
   "metadata": {},
   "outputs": [],
   "source": [
    "#Question 4"
   ]
  },
  {
   "cell_type": "code",
   "execution_count": 43,
   "id": "664cd30c-477e-45e5-b421-a7b9008f10e8",
   "metadata": {},
   "outputs": [
    {
     "name": "stdout",
     "output_type": "stream",
     "text": [
      "Product of all elements: 120\n"
     ]
    }
   ],
   "source": [
    "from functools import reduce\n",
    "\n",
    "def multiply(x, y):\n",
    "    return x * y\n",
    "\n",
    "numbers = [1, 2, 3, 4, 5]\n",
    "\n",
    "product = reduce(multiply, numbers)\n",
    "\n",
    "print(\"Product of all elements:\", product)"
   ]
  },
  {
   "cell_type": "code",
   "execution_count": null,
   "id": "ce00f3b5-3daa-41ef-9386-9abfad92e5fa",
   "metadata": {},
   "outputs": [],
   "source": [
    "# Function Documentation and Best Practices"
   ]
  },
  {
   "cell_type": "code",
   "execution_count": null,
   "id": "6e509d89-f89d-4a30-b065-1ffb9ae90681",
   "metadata": {},
   "outputs": [],
   "source": [
    "#Question 1"
   ]
  },
  {
   "cell_type": "markdown",
   "id": "8bff5fe9-bbfc-45d3-91e1-d02b95a80925",
   "metadata": {},
   "source": [
    "# Purpose of docstrings in Python Functions\n",
    "\n",
    "A docstring (documentation string) is a string literal used to describe the purpose and behavior of a function, class, module, or method in Python. The docstring is written just below the function definition and serves as a way to document what the function does, its parameters, and its return values.\n",
    "\n",
    "# How to write a docstring\n",
    "\n",
    "1. Format :   \n",
    "A docstring is written inside triple quotes (\"\"\") or (''') and placed immediately after the function declaration\n",
    "\n",
    "2. Content:\n",
    "A brief description of the function’s purpose.\n",
    "A list of arguments (if any), with explanations.\n",
    "Explanation of the return value (if any).\n",
    "Optionally, additional notes or examples of usage\n",
    "\n",
    "Example\n",
    "\n",
    "def add_numbers(a, b):\n",
    "    \"\"\"\n",
    "    Adds two numbers and returns the result.\n",
    "    \n",
    "    Args:\n",
    "        a (int, float): The first number.\n",
    "        b (int, float): The second number.\n",
    "\n",
    "    Returns:\n",
    "        int, float: The sum of the two numbers.\n",
    "    \n",
    "    Example:\n",
    "        >>> add_numbers(2, 3)\n",
    "        5\n",
    "    \"\"\"\n",
    "    return a + b\n",
    "\n",
    "# Accessing docstring via the help() function\n",
    "help(add_numbers)"
   ]
  },
  {
   "cell_type": "code",
   "execution_count": null,
   "id": "e7fc0354-9c10-49b8-923a-841f1ffdc388",
   "metadata": {},
   "outputs": [],
   "source": [
    "#Question 2"
   ]
  },
  {
   "cell_type": "markdown",
   "id": "0c08a9a0-d831-448e-bf3c-9a1fcd04e17b",
   "metadata": {},
   "source": [
    "Here are some best practices and conventions for naming functions and variables in Python to improve readability, maintainability, and consistency:\n",
    "\n",
    "1. Use Descriptive and Meaningful Names\n",
    "\n",
    "-Function and variable names should clearly describe what they do or represent.\n",
    "-Avoid single-character names (except for counters or iterators like i, j in small loops).\n",
    "-Avoid abbreviations unless they are well-known and common.\n",
    "\n",
    "2. Follow the PEP 8 Naming Conventions\n",
    "\n",
    "-Python’s PEP 8 is the official style guide that provides naming conventions to standardize code.\n",
    "\n",
    "For Variable Names:\n",
    "\n",
    "-Use lowercase letters with words separated by underscores (snake_case).\n",
    "-Avoid capital letters unless needed for constants.\n",
    "\n",
    "For Function Names:\n",
    "\n",
    "-Follow the same rule as variables\n",
    "\n",
    "For Consonant:\n",
    "\n",
    "-Constants should be written in all uppercase letters with underscores to separate words.\n",
    "\n",
    "3. Be Consistent\n",
    "4. Avoid Reserved Words\n",
    "5. Use verbs for function names\n",
    "6. Use nouns for variable names\n",
    "7. Avoid using a single underscore ( _ ) for regular variable names\n",
    "8. Private variables and methods in classes\n",
    "9. Avoid redundant words like 'data' and 'info'\n",
    "10. Avoid long names"
   ]
  }
 ],
 "metadata": {
  "kernelspec": {
   "display_name": "Python 3 (ipykernel)",
   "language": "python",
   "name": "python3"
  },
  "language_info": {
   "codemirror_mode": {
    "name": "ipython",
    "version": 3
   },
   "file_extension": ".py",
   "mimetype": "text/x-python",
   "name": "python",
   "nbconvert_exporter": "python",
   "pygments_lexer": "ipython3",
   "version": "3.10.8"
  }
 },
 "nbformat": 4,
 "nbformat_minor": 5
}
